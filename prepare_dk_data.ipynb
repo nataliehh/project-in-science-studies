{
 "cells": [
  {
   "cell_type": "code",
   "execution_count": 1,
   "id": "8d249d2c-2841-4875-bc7a-cc47bd8eb8bb",
   "metadata": {},
   "outputs": [],
   "source": [
    "import os\n",
    "import numpy as np\n",
    "import matplotlib.pyplot as plt\n",
    "import rasterio\n",
    "import json\n",
    "import random\n",
    "import numpy as np\n",
    "import shapely\n",
    "from tqdm import tqdm\n",
    "import matplotlib.pyplot as plt\n",
    "import geojson\n",
    "import rasterio.features\n",
    "random.seed(42) # Set a fixed seed for reproducibility\n",
    "\n",
    "img_width, img_height = 256, 256"
   ]
  },
  {
   "cell_type": "code",
   "execution_count": 2,
   "id": "22649bfa-371a-4502-bb80-5182f5a76229",
   "metadata": {},
   "outputs": [
    {
     "name": "stdout",
     "output_type": "stream",
     "text": [
      "440000 6070000 610000 6340000\n",
      "(135000, 85000)\n",
      "EPSG:25832\n"
     ]
    }
   ],
   "source": [
    "# Open the tif file containing the orthographic map of Denmark \n",
    "path = './ortodata_2014_res_2_crop.tif'\n",
    "dataset = rasterio.open(path)\n",
    "\n",
    "# Get some statistics about the data, such as the bounds of the coordinates\n",
    "left, bottom, right, top = np.array(dataset.bounds).astype(int)\n",
    "print(left, bottom, right, top)\n",
    "print(dataset.shape)\n",
    "print(dataset.crs)"
   ]
  },
  {
   "cell_type": "code",
   "execution_count": 3,
   "id": "82e5938d-fc67-4b29-8903-c124ab526ea7",
   "metadata": {},
   "outputs": [
    {
     "name": "stdout",
     "output_type": "stream",
     "text": [
      "312325 dict_keys(['type', 'name', 'crs', 'features'])\n",
      "152920\n",
      "CPU times: user 1min 14s, sys: 5.62 s, total: 1min 20s\n",
      "Wall time: 1min 20s\n"
     ]
    },
    {
     "data": {
      "text/plain": [
       "{\"geometry\": {\"coordinates\": [[[[501332.248, 6224773.935], [501334.244, 6224779.934], [501334.244, 6224784.933], [501333.246, 6224790.932], [501327.243, 6224789.932], [501317.249, 6224783.933], [501316.243, 6224780.934], [501319.244, 6224774.935], [501324.25, 6224771.936], [501329.247, 6224770.936], [501332.248, 6224773.935]]]], \"type\": \"MultiPolygon\"}, \"properties\": {\"Aendr_kode\": 0, \"Aendrbegr\": \"Ikke udfyldt\", \"Besig_dato\": null, \"Bruger_id\": \"00000000-0000-0000-0000-000000000000\", \"CVR_kode\": 29189919, \"CVR_navn\": \"Herning kommune\", \"Gl_sys_ref\": null, \"Journalnr\": null, \"Link\": null, \"Natyp_kode\": 6, \"Natyp_navn\": \"Sø\", \"Objekt_id\": \"0460cd7c-5353-11e2-af2b-00155d01e765\", \"Off_kode\": 1, \"Offentlig\": \"Synlig for alle\", \"Oprettet\": \"2006-12-31T01:00:00\", \"Oprindelse\": \"Ikke udfyldt\", \"Oprindkode\": 0, \"Sagsbeh\": null, \"Shape_area\": 252.94599999301087, \"Shape_length\": 0.0, \"Status\": \"Gældende / Vedtaget\", \"Statuskode\": 3, \"Systid_fra\": \"2006-12-31T01:00:00\", \"Systid_til\": null, \"Temakode\": 2013, \"Temanavn\": \"Beskyttede naturtyper\", \"Vedligehold_status\": null, \"Vedligehold_tid\": null, \"Version_id\": \"00007d2d-6222-4244-a5ae-f864f263240e\"}, \"type\": \"Feature\"}"
      ]
     },
     "execution_count": 3,
     "metadata": {},
     "output_type": "execute_result"
    }
   ],
   "source": [
    "%%time\n",
    "# This file contains annotations for different types of nature phenomena (e.g. lakes, forests)\n",
    "path_to_file = './naturtyper_layer.geojson'\n",
    "\n",
    "with open(path_to_file, 'r') as f:\n",
    "    gj = geojson.load(f)\n",
    "print(len(gj['features']), gj.keys())\n",
    "\n",
    "# Filter to the annotations of the lakes around Denmark\n",
    "gj_features = []\n",
    "for feature in gj['features']:\n",
    "    if feature['properties']['Natyp_kode'] == 6: # Code for lakes is 6\n",
    "        gj_features.append(feature)\n",
    "print(len(gj_features))\n",
    "gj_features[0]"
   ]
  },
  {
   "cell_type": "code",
   "execution_count": 4,
   "id": "3918a7ca-1fb9-4767-9cc2-08b7fbd3980d",
   "metadata": {},
   "outputs": [
    {
     "name": "stderr",
     "output_type": "stream",
     "text": [
      "174it [00:00, 1735.64it/s]"
     ]
    },
    {
     "name": "stdout",
     "output_type": "stream",
     "text": [
      "Failed to convert annotation 7: setting an array element with a sequence. The requested array has an inhomogeneous shape after 2 dimensions. The detected shape was (1, 2) + inhomogeneous part.\n"
     ]
    },
    {
     "name": "stderr",
     "output_type": "stream",
     "text": [
      "152920it [01:01, 2474.06it/s]\n"
     ]
    },
    {
     "name": "stdout",
     "output_type": "stream",
     "text": [
      "Creating mask...\n",
      "Failed to convert 3760 annotations\n",
      "Skipped 34 annotations\n"
     ]
    }
   ],
   "source": [
    "# Get dimensions and transform of the original raster\n",
    "out_shape = (dataset.height, dataset.width)\n",
    "transform = dataset.transform\n",
    "\n",
    "# Initialize an empty list to store the geometries\n",
    "geometries = []\n",
    "\n",
    "failed, skipped = 0, 0\n",
    "\n",
    "# Loop over the annotations\n",
    "for i, feature in tqdm(enumerate(gj_features)):\n",
    "    geometry = feature['geometry']\n",
    "    coords = geometry['coordinates']\n",
    "    try:\n",
    "        poly = shapely.geometry.shape(geometry)\n",
    "        if not poly.is_valid: # Skip invalid shapes\n",
    "            skipped += 1\n",
    "            continue\n",
    "    \n",
    "        # Get the coordinates of the lake in the form [(x1, y1), (x2, y2), ...]\n",
    "        coords_xy = np.array(coords).reshape(-1, 2)#.astype(int)\n",
    "            \n",
    "        # Split x and y coordinates\n",
    "        x, y = coords_xy[:, 0], coords_xy[:, 1]\n",
    "        \n",
    "        # Transform the polygon's coordinates to indices within the orthographic raster\n",
    "        x_trans, y_trans = rasterio.transform.rowcol(transform, x, y)\n",
    "\n",
    "        # Convert to a polygon and add to our list of shapes\n",
    "        poly = shapely.Polygon(zip(x_trans, y_trans))\n",
    "        \n",
    "        # Convert to the GeoJSON format for rasterio\n",
    "        geometries.append((shapely.geometry.mapping(poly), 1))\n",
    "        \n",
    "    except Exception as e:\n",
    "        if failed == 0:\n",
    "            print(f\"Failed to convert annotation {i}: {e}\")\n",
    "        failed += 1\n",
    "        continue\n",
    "\n",
    "print('Creating mask...')\n",
    "# Rasterize all shapes onto a single map\n",
    "mask = rasterio.features.rasterize(\n",
    "    geometries, out_shape=out_shape, fill=0, \n",
    "    default_value=1, dtype=rasterio.uint8\n",
    ")\n",
    "\n",
    "print(f'Failed to convert {failed} annotations')\n",
    "print(f'Skipped {skipped} annotations')"
   ]
  },
  {
   "cell_type": "code",
   "execution_count": 5,
   "id": "452107db-ce88-4732-b19c-153a2e6a8bf6",
   "metadata": {},
   "outputs": [],
   "source": [
    "# Prepare folders to store the annotated data in\n",
    "base_folder = 'denmark_data'\n",
    "os.makedirs(base_folder, exist_ok = True)\n",
    "# Create the 'splits' - here we only use the test split as we only evaluate on the Danish data\n",
    "for split in ['test']: #['train', 'val', 'test']:\n",
    "    os.makedirs(f'{base_folder}/{split}', exist_ok = True)\n",
    "    os.makedirs(f'{base_folder}/{split}/msk', exist_ok = True)\n",
    "    os.makedirs(f'{base_folder}/{split}/img', exist_ok = True)"
   ]
  },
  {
   "cell_type": "code",
   "execution_count": 6,
   "id": "2de32060-7a5c-4c24-8fea-5e5c2a1f3dba",
   "metadata": {},
   "outputs": [
    {
     "name": "stdout",
     "output_type": "stream",
     "text": [
      "(3, 135000, 85000)\n",
      "CPU times: user 9.74 s, sys: 1min 23s, total: 1min 33s\n",
      "Wall time: 1min 40s\n"
     ]
    }
   ],
   "source": [
    "%%time\n",
    "img_rgb  = dataset.read((1,2,3))#.astype(np.float16)\n",
    "print(img_rgb.shape)"
   ]
  },
  {
   "cell_type": "code",
   "execution_count": 7,
   "id": "ca8e16f5-c567-455b-aace-8e229c86d2b5",
   "metadata": {},
   "outputs": [
    {
     "name": "stderr",
     "output_type": "stream",
     "text": [
      "100%|█████████████████████████████████████████████████████████████████████████████████| 527/527 [20:24<00:00,  2.32s/it]"
     ]
    },
    {
     "name": "stdout",
     "output_type": "stream",
     "text": [
      "40270\n"
     ]
    },
    {
     "name": "stderr",
     "output_type": "stream",
     "text": [
      "\n"
     ]
    }
   ],
   "source": [
    "I, J = img_rgb.shape[1:]\n",
    "success = 0\n",
    "idx = 0\n",
    "chosen_splits = []\n",
    "for i in tqdm(range(0, I-img_width, img_width)):\n",
    "    for j in range(0, J, img_height):\n",
    "        x_start, y_start = i, j\n",
    "\n",
    "        # Define the bounds of the image and mask, then crop them\n",
    "        x_end, y_end = i + img_width, j + img_height\n",
    "        mask_crop = mask[x_start:x_end, y_start:y_end]\n",
    "        img_crop = img_rgb[:, x_start:x_end, y_start:y_end]\n",
    "\n",
    "        # Ensure we have the right shape\n",
    "        if mask_crop.shape != (img_width, img_height):\n",
    "            continue\n",
    "        # Only keep images with some amount of water in them for simplicity\n",
    "        if np.where(mask_crop == 1)[0].shape == (0,):\n",
    "            continue\n",
    "        success += 1\n",
    "        # Choose which split to assign the image and mask to, using weighted randomness\n",
    "        # Since we just use the Danish data as test data, I have set it to 100% test set\n",
    "        splits = ['test'] # * 25 + ['val'] * 25 + ['train'] * 50\n",
    "        chosen_split = random.choice(splits)\n",
    "        chosen_splits.append(chosen_split)\n",
    "\n",
    "        # Save the mask as a numpy array\n",
    "        np.save(f'{base_folder}/{chosen_split}/msk/{idx}.npy', mask_crop)\n",
    "\n",
    "        # Make a new TIF file with the right properties in terms of bounds, transforms, etc.\n",
    "        x_min, y_min = rasterio.transform.xy(dataset.transform, x_start, y_start)\n",
    "        x_max, y_max = rasterio.transform.xy(dataset.transform, x_end, y_end)\n",
    "        transform = rasterio.transform.from_bounds(x_min, y_min, x_max, y_max, x_end - x_start, y_end - y_start)\n",
    "    \n",
    "        with rasterio.open(f'{base_folder}/{chosen_split}/img/{idx}.tif', 'w', driver = 'GTiff', width = img_crop.shape[2], height = img_crop.shape[1],\n",
    "                            count = 3,  dtype = img_crop.dtype, crs = dataset.crs, transform = transform) as f:\n",
    "            for c in range(3): # Write the color channels to the tif file\n",
    "                f.write(img_crop[c], c + 1)\n",
    "        idx += 1\n",
    "print(success)"
   ]
  },
  {
   "cell_type": "code",
   "execution_count": 8,
   "id": "ed01cd1c-66c5-42df-ab16-8399d0d0a99a",
   "metadata": {},
   "outputs": [
    {
     "data": {
      "text/plain": [
       "Counter({'test': 40270})"
      ]
     },
     "execution_count": 8,
     "metadata": {},
     "output_type": "execute_result"
    }
   ],
   "source": [
    "from collections import Counter\n",
    "Counter(chosen_splits)"
   ]
  },
  {
   "cell_type": "code",
   "execution_count": 9,
   "id": "dbe573bb-2113-4f17-83e5-3a18d3dab72d",
   "metadata": {},
   "outputs": [],
   "source": [
    "import sys\n",
    "sys.path.append('./UNet_code')\n",
    "from data_loader import CustomDataLoader\n",
    "from torch.utils.data import DataLoader\n",
    "\n",
    "batch_size = 4\n",
    "base_folder = 'denmark_data'\n",
    "image_path = base_folder + '/{}/img/*'\n",
    "mask_path = base_folder + '/{}/msk/*'\n",
    "\n",
    "test_dataset = CustomDataLoader(image_path.format('test'), mask_path.format('test'), channels = 'r.g.b')\n",
    "test_loader = DataLoader(dataset = test_dataset, batch_size = batch_size, shuffle = False, num_workers = 4)\n",
    "\n",
    "# To test that it works :)\n",
    "# for batch in train_loader:\n",
    "#     print(batch)\n",
    "#     break"
   ]
  },
  {
   "cell_type": "code",
   "execution_count": null,
   "id": "b3478c99-10e0-4650-90fc-5327356a7f8c",
   "metadata": {},
   "outputs": [],
   "source": []
  }
 ],
 "metadata": {
  "kernelspec": {
   "display_name": "Python 3 (ipykernel)",
   "language": "python",
   "name": "python3"
  },
  "language_info": {
   "codemirror_mode": {
    "name": "ipython",
    "version": 3
   },
   "file_extension": ".py",
   "mimetype": "text/x-python",
   "name": "python",
   "nbconvert_exporter": "python",
   "pygments_lexer": "ipython3",
   "version": "3.10.12"
  }
 },
 "nbformat": 4,
 "nbformat_minor": 5
}
