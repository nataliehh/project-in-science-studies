{
 "cells": [
  {
   "cell_type": "code",
   "execution_count": 1,
   "id": "47f29b6c-60ad-4eac-95ce-ad0d4525cd0d",
   "metadata": {},
   "outputs": [],
   "source": [
    "from data_loader import CustomDataLoader\n",
    "from torch.utils.data import DataLoader\n",
    "from inference_utils import get_model, evaluate_model \n",
    "\n",
    "import warnings\n",
    "warnings.filterwarnings('ignore')"
   ]
  },
  {
   "cell_type": "code",
   "execution_count": 2,
   "id": "5642e69e-590d-42e9-bd0d-c0d027b48f78",
   "metadata": {},
   "outputs": [
    {
     "name": "stdout",
     "output_type": "stream",
     "text": [
      "Model parameters:\n",
      "{'epochs': 100, 'batch_size': 16, 'lr': 0.001, 'encoder': 'efficientnet-b0', 'weights': 'imagenet', 'model_ckpt_path': './networks', 'data_path': '../data_prepped', 'channels': 'r.g.b'}\n",
      "CPU times: user 444 ms, sys: 153 ms, total: 597 ms\n",
      "Wall time: 405 ms\n"
     ]
    }
   ],
   "source": [
    "%%time\n",
    "model_ckpt = './networks/2024_04_16-16_37_36_encoder_efficientnet-b0_weights_imagenet_epochs_100_batchsize_16_lr_0.001/model_0.38835_val_avg.pt'\n",
    "model, channels = get_model(model_ckpt)"
   ]
  },
  {
   "cell_type": "code",
   "execution_count": 3,
   "id": "5998ce14-a0e9-43fd-9401-99c00da1e5a0",
   "metadata": {},
   "outputs": [],
   "source": [
    "# Get the test dataset\n",
    "data_path = '../denmark_landsat_data'\n",
    "image_path = data_path + '/{}/img/*'\n",
    "mask_path = data_path + '/{}/msk/*'\n",
    " \n",
    "# Use custom data loaders for the dataset\n",
    "test_dataset = CustomDataLoader(image_path.format('test'), mask_path.format('test'), channels = channels)\n",
    "test_loader = DataLoader(dataset = test_dataset, batch_size = 8, shuffle = False, num_workers = 8)"
   ]
  },
  {
   "cell_type": "code",
   "execution_count": 4,
   "id": "957c0683-52e6-4458-b356-381492fa777e",
   "metadata": {},
   "outputs": [
    {
     "name": "stderr",
     "output_type": "stream",
     "text": [
      "100%|█████████████████████████████████████████████████████████████████████████████████| 119/119 [00:10<00:00, 11.55it/s]\n"
     ]
    },
    {
     "name": "stdout",
     "output_type": "stream",
     "text": [
      "0 {'iou': 0.8052, 'recall': 1.0, 'precision': 0.8052, 'acc': 0.8052, 'F1': 0.8921, 'kappa': 0.0}\n"
     ]
    },
    {
     "name": "stderr",
     "output_type": "stream",
     "text": [
      "100%|█████████████████████████████████████████████████████████████████████████████████| 119/119 [00:09<00:00, 12.85it/s]\n"
     ]
    },
    {
     "name": "stdout",
     "output_type": "stream",
     "text": [
      "0.01 {'iou': 0.8234, 'recall': 0.9841, 'precision': 0.8345, 'acc': 0.8301, 'F1': 0.9031, 'kappa': 0.2468}\n"
     ]
    },
    {
     "name": "stderr",
     "output_type": "stream",
     "text": [
      "100%|█████████████████████████████████████████████████████████████████████████████████| 119/119 [00:09<00:00, 12.63it/s]\n"
     ]
    },
    {
     "name": "stdout",
     "output_type": "stream",
     "text": [
      "0.05 {'iou': 0.8355, 'recall': 0.9674, 'precision': 0.8597, 'acc': 0.8467, 'F1': 0.9104, 'kappa': 0.3918}\n"
     ]
    },
    {
     "name": "stderr",
     "output_type": "stream",
     "text": [
      "100%|█████████████████████████████████████████████████████████████████████████████████| 119/119 [00:09<00:00, 12.49it/s]\n"
     ]
    },
    {
     "name": "stdout",
     "output_type": "stream",
     "text": [
      "0.1 {'iou': 0.7798, 'recall': 0.884, 'precision': 0.8688, 'acc': 0.7991, 'F1': 0.8763, 'kappa': 0.3415}\n"
     ]
    },
    {
     "name": "stderr",
     "output_type": "stream",
     "text": [
      "100%|█████████████████████████████████████████████████████████████████████████████████| 119/119 [00:09<00:00, 12.41it/s]\n"
     ]
    },
    {
     "name": "stdout",
     "output_type": "stream",
     "text": [
      "0.2 {'iou': 0.739, 'recall': 0.8247, 'precision': 0.8768, 'acc': 0.7655, 'F1': 0.8499, 'kappa': 0.3162}\n"
     ]
    },
    {
     "name": "stderr",
     "output_type": "stream",
     "text": [
      "100%|█████████████████████████████████████████████████████████████████████████████████| 119/119 [00:09<00:00, 12.37it/s]\n"
     ]
    },
    {
     "name": "stdout",
     "output_type": "stream",
     "text": [
      "0.4 {'iou': 0.7108, 'recall': 0.7817, 'precision': 0.8868, 'acc': 0.7439, 'F1': 0.831, 'kappa': 0.3114}\n"
     ]
    },
    {
     "name": "stderr",
     "output_type": "stream",
     "text": [
      "100%|█████████████████████████████████████████████████████████████████████████████████| 119/119 [00:09<00:00, 12.47it/s]\n"
     ]
    },
    {
     "name": "stdout",
     "output_type": "stream",
     "text": [
      "0.8 {'iou': 0.6871, 'recall': 0.7461, 'precision': 0.8968, 'acc': 0.7264, 'F1': 0.8145, 'kappa': 0.3097}\n"
     ]
    },
    {
     "name": "stderr",
     "output_type": "stream",
     "text": [
      "100%|█████████████████████████████████████████████████████████████████████████████████| 119/119 [00:09<00:00, 12.27it/s]"
     ]
    },
    {
     "name": "stdout",
     "output_type": "stream",
     "text": [
      "1.0 {'iou': 0.6072, 'recall': 0.6528, 'precision': 0.8968, 'acc': 0.66, 'F1': 0.7556, 'kappa': 0.2401}\n"
     ]
    },
    {
     "name": "stderr",
     "output_type": "stream",
     "text": [
      "\n"
     ]
    }
   ],
   "source": [
    "evaluate_model(test_loader, model, thresholds = [0, 0.01, 0.05, 0.1, 0.2, 0.4, 0.8, 1.0])"
   ]
  },
  {
   "cell_type": "code",
   "execution_count": null,
   "id": "218637e2-1b1f-473a-b13e-a6746f5dd2e6",
   "metadata": {},
   "outputs": [],
   "source": []
  }
 ],
 "metadata": {
  "kernelspec": {
   "display_name": "Python 3 (ipykernel)",
   "language": "python",
   "name": "python3"
  },
  "language_info": {
   "codemirror_mode": {
    "name": "ipython",
    "version": 3
   },
   "file_extension": ".py",
   "mimetype": "text/x-python",
   "name": "python",
   "nbconvert_exporter": "python",
   "pygments_lexer": "ipython3",
   "version": "3.10.12"
  }
 },
 "nbformat": 4,
 "nbformat_minor": 5
}
