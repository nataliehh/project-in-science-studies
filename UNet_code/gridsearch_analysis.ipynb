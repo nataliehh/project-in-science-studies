{
 "cells": [
  {
   "cell_type": "code",
   "execution_count": 1,
   "id": "3f30f886-7522-486c-900a-597486324dc5",
   "metadata": {},
   "outputs": [
    {
     "name": "stdout",
     "output_type": "stream",
     "text": [
      "0.38835 {'epochs': 100, 'batch_size': 16, 'lr': 0.001, 'encoder': 'efficientnet-b0', 'weights': 'imagenet', 'model_ckpt_path': './networks', 'data_path': '../data_prepped', 'channels': 'r.g.b'}\n",
      "0.19832 {'epochs': 100, 'batch_size': 16, 'lr': 0.001, 'encoder': 'efficientnet-b0', 'weights': 'imagenet', 'model_ckpt_path': './networks', 'data_path': '../data_prepped', 'channels': 'r.g.b.nir.swir1.swir2'}\n",
      "0.67627 {'epochs': 20, 'batch_size': 4, 'lr': 0.01, 'encoder': 'efficientnet-b0', 'weights': 'imagenet', 'model_ckpt_path': './networks', 'data_path': '../data_prepped', 'channels': 'r.g.b'}\n",
      "0.51298 {'epochs': 20, 'batch_size': 4, 'lr': 0.001, 'encoder': 'efficientnet-b0', 'weights': 'imagenet', 'model_ckpt_path': './networks', 'data_path': '../data_prepped', 'channels': 'r.g.b'}\n",
      "0.62050 {'epochs': 20, 'batch_size': 8, 'lr': 0.01, 'encoder': 'efficientnet-b0', 'weights': 'imagenet', 'model_ckpt_path': './networks', 'data_path': '../data_prepped', 'channels': 'r.g.b'}\n",
      "0.40247 {'epochs': 20, 'batch_size': 8, 'lr': 0.001, 'encoder': 'efficientnet-b0', 'weights': 'imagenet', 'model_ckpt_path': './networks', 'data_path': '../data_prepped', 'channels': 'r.g.b'}\n",
      "Best loss: 0.19832\t Params: {'epochs': 100, 'batch_size': 16, 'lr': 0.001, 'encoder': 'efficientnet-b0', 'weights': 'imagenet', 'model_ckpt_path': './networks', 'data_path': '../data_prepped', 'channels': 'r.g.b.nir.swir1.swir2'}\n"
     ]
    }
   ],
   "source": [
    "import os\n",
    "import numpy as np\n",
    "import pickle\n",
    "\n",
    "ckpt_folder = 'networks'\n",
    "\n",
    "checkpoints = os.listdir(ckpt_folder)\n",
    "\n",
    "param_lst = []\n",
    "best_result_lst = []\n",
    "for c in checkpoints:\n",
    "    path = os.path.join(ckpt_folder, c)\n",
    "    contents = os.listdir(path)\n",
    "    \n",
    "    if not 'params.pkl' in contents:\n",
    "        continue\n",
    "\n",
    "    with open(os.path.join(path, 'params.pkl'), 'rb') as f:\n",
    "        params = pickle.load(f)\n",
    "    if params['lr'] not in [.1, .01, .001]:\n",
    "        continue\n",
    "    results = [file.split('_')[1] for file in contents if file.endswith('.pt')]\n",
    "    best_result_lst.append(min(results))\n",
    "    param_lst.append(params)\n",
    "    print(min(results), params)\n",
    "best_model_idx = np.argmin(best_result_lst)\n",
    "best_model_result = best_result_lst[best_model_idx]\n",
    "best_model_params = param_lst[best_model_idx]\n",
    "print(f'Best loss: {best_model_result}\\t Params: {best_model_params}')"
   ]
  },
  {
   "cell_type": "code",
   "execution_count": null,
   "id": "bfdc7c84-4f53-47f6-8c92-497194ad62d2",
   "metadata": {},
   "outputs": [],
   "source": []
  }
 ],
 "metadata": {
  "kernelspec": {
   "display_name": "Python 3 (ipykernel)",
   "language": "python",
   "name": "python3"
  },
  "language_info": {
   "codemirror_mode": {
    "name": "ipython",
    "version": 3
   },
   "file_extension": ".py",
   "mimetype": "text/x-python",
   "name": "python",
   "nbconvert_exporter": "python",
   "pygments_lexer": "ipython3",
   "version": "3.10.6"
  }
 },
 "nbformat": 4,
 "nbformat_minor": 5
}
