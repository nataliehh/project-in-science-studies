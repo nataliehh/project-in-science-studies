{
 "cells": [
  {
   "cell_type": "code",
   "execution_count": 1,
   "id": "f8575d0c-efe6-4db4-a845-7c76d2ce76c4",
   "metadata": {},
   "outputs": [],
   "source": [
    "import os\n",
    "import numpy as np\n",
    "import matplotlib.pyplot as plt\n",
    "import rasterio\n",
    "import random\n",
    "import shapely\n",
    "from tqdm import tqdm\n",
    "import geojson\n",
    "import rasterio.features\n",
    "import sys\n",
    "import cv2\n",
    "from collections import Counter\n",
    "import copy"
   ]
  },
  {
   "cell_type": "code",
   "execution_count": 2,
   "id": "91b68e4d-23d0-470b-9150-f82be54431c6",
   "metadata": {},
   "outputs": [
    {
     "name": "stdout",
     "output_type": "stream",
     "text": [
      "Bounds: 440000 6070000 610000 6340000\n",
      "Data shape: (135000, 85000)\n",
      "CRS: EPSG:25832\n",
      "Pixel width: 2.0 metres\n",
      "Pixel height: 2.0 metres\n",
      "Pixel area: 4.0 square metres\n"
     ]
    }
   ],
   "source": [
    "# Open the tif file containing the orthographic map of Denmark \n",
    "path = './ortodata_2014_res_2_crop.tif'\n",
    "dataset = rasterio.open(path)\n",
    "\n",
    "# Get some statistics about the data, such as the bounds of the coordinates\n",
    "bounds = dataset.bounds\n",
    "left, bottom, right, top = np.array(bounds).astype(int)\n",
    "transform = dataset.transform\n",
    "crs = dataset.crs\n",
    "unit = crs.linear_units\n",
    "\n",
    "print('Bounds:', left, bottom, right, top)\n",
    "print('Data shape:', dataset.shape)\n",
    "print('CRS:', crs)\n",
    "\n",
    "# Extract the dimensions of a pixel from the transform operation\n",
    "pixel_width = transform[0]\n",
    "pixel_height = -transform[4]  # The pixel heigh is negative(?)\n",
    "pixel_area = pixel_width * pixel_height # Calculate the area of a pixel\n",
    "\n",
    "print(f\"Pixel width: {pixel_width} {unit}s\")\n",
    "print(f\"Pixel height: {pixel_height} {unit}s\")\n",
    "print(f\"Pixel area: {pixel_area} square {unit}s\")"
   ]
  },
  {
   "cell_type": "code",
   "execution_count": 3,
   "id": "e8dcde91-cf3c-4df4-930c-b7edad065045",
   "metadata": {},
   "outputs": [
    {
     "name": "stdout",
     "output_type": "stream",
     "text": [
      "312325 dict_keys(['type', 'name', 'crs', 'features'])\n",
      "152920\n",
      "CPU times: user 1min 12s, sys: 5.56 s, total: 1min 18s\n",
      "Wall time: 2min 36s\n"
     ]
    },
    {
     "data": {
      "text/plain": [
       "{\"geometry\": {\"coordinates\": [[[[501332.248, 6224773.935], [501334.244, 6224779.934], [501334.244, 6224784.933], [501333.246, 6224790.932], [501327.243, 6224789.932], [501317.249, 6224783.933], [501316.243, 6224780.934], [501319.244, 6224774.935], [501324.25, 6224771.936], [501329.247, 6224770.936], [501332.248, 6224773.935]]]], \"type\": \"MultiPolygon\"}, \"properties\": {\"Aendr_kode\": 0, \"Aendrbegr\": \"Ikke udfyldt\", \"Besig_dato\": null, \"Bruger_id\": \"00000000-0000-0000-0000-000000000000\", \"CVR_kode\": 29189919, \"CVR_navn\": \"Herning kommune\", \"Gl_sys_ref\": null, \"Journalnr\": null, \"Link\": null, \"Natyp_kode\": 6, \"Natyp_navn\": \"Sø\", \"Objekt_id\": \"0460cd7c-5353-11e2-af2b-00155d01e765\", \"Off_kode\": 1, \"Offentlig\": \"Synlig for alle\", \"Oprettet\": \"2006-12-31T01:00:00\", \"Oprindelse\": \"Ikke udfyldt\", \"Oprindkode\": 0, \"Sagsbeh\": null, \"Shape_area\": 252.94599999301087, \"Shape_length\": 0.0, \"Status\": \"Gældende / Vedtaget\", \"Statuskode\": 3, \"Systid_fra\": \"2006-12-31T01:00:00\", \"Systid_til\": null, \"Temakode\": 2013, \"Temanavn\": \"Beskyttede naturtyper\", \"Vedligehold_status\": null, \"Vedligehold_tid\": null, \"Version_id\": \"00007d2d-6222-4244-a5ae-f864f263240e\"}, \"type\": \"Feature\"}"
      ]
     },
     "execution_count": 3,
     "metadata": {},
     "output_type": "execute_result"
    }
   ],
   "source": [
    "%%time\n",
    "# This file contains annotations for different types of nature phenomena (e.g. lakes, forests)\n",
    "path_to_file = './naturtyper_layer.geojson'\n",
    "\n",
    "with open(path_to_file, 'r') as f:\n",
    "    gj = geojson.load(f)\n",
    "print(len(gj['features']), gj.keys())\n",
    "\n",
    "# Filter to the annotations of the lakes around Denmark\n",
    "gj_features = []\n",
    "for feature in gj['features']:\n",
    "    if feature['properties']['Natyp_kode'] == 6: # Code for lakes is 6\n",
    "        gj_features.append(feature)\n",
    "print(len(gj_features))\n",
    "gj_features[0]"
   ]
  },
  {
   "cell_type": "code",
   "execution_count": 4,
   "id": "cdf2efb5-00a1-4500-b02b-d29499874224",
   "metadata": {},
   "outputs": [
    {
     "name": "stderr",
     "output_type": "stream",
     "text": [
      "118it [00:00, 1085.11it/s]"
     ]
    },
    {
     "name": "stdout",
     "output_type": "stream",
     "text": [
      "Failed to convert annotation 7: setting an array element with a sequence. The requested array has an inhomogeneous shape after 2 dimensions. The detected shape was (1, 2) + inhomogeneous part.\n"
     ]
    },
    {
     "name": "stderr",
     "output_type": "stream",
     "text": [
      "152920it [03:12, 792.55it/s] \n"
     ]
    },
    {
     "name": "stdout",
     "output_type": "stream",
     "text": [
      "Creating mask...\n",
      "Failed to convert 3760 annotations\n",
      "Skipped 59104 annotations\n"
     ]
    }
   ],
   "source": [
    "# Get dimensions and transform of the original raster\n",
    "out_shape = (dataset.height, dataset.width)\n",
    "\n",
    "# Empty list to store the geometries (polygons)\n",
    "geometries = []\n",
    "\n",
    "failed, skipped = 0, 0 # Track which annotations could not be converted\n",
    "\n",
    "# Loop over the annotations\n",
    "for i, feature in tqdm(enumerate(gj_features)):\n",
    "    geometry = copy.deepcopy(feature['geometry'])\n",
    "    coords = copy.deepcopy(geometry['coordinates'])\n",
    "    try:\n",
    "        poly = shapely.geometry.shape(geometry)\n",
    "        if not poly.is_valid: # Skip invalid shapes\n",
    "            skipped += 1\n",
    "            continue\n",
    "    \n",
    "        # Get the coordinates of the lake in the form [(x1, y1), (x2, y2), ...]\n",
    "        coords_xy = np.array(coords).reshape(-1, 2)\n",
    "        \n",
    "        # Split x and y coordinates\n",
    "        x, y = coords_xy[:, 0], coords_xy[:, 1]\n",
    "\n",
    "        # Ensure we only keep annotations that are within bounds of our map\n",
    "        x_min, x_max, y_min, y_max = np.min(x), np.max(x), np.min(y), np.max(y)\n",
    "        if x_min <= bounds.left or x_max >= bounds.right or y_min <= bounds.bottom or y_max >= bounds.top:\n",
    "            skipped += 1\n",
    "            continue\n",
    "        \n",
    "        # Transform the polygon's coordinates to indices within the orthographic raster\n",
    "        y_trans, x_trans = rasterio.transform.rowcol(transform, x, y, op = np.round)\n",
    "\n",
    "        # Convert to a polygon and add to our list of shapes\n",
    "        poly = shapely.Polygon(zip(x_trans, y_trans))\n",
    "        \n",
    "        # Convert to the GeoJSON format for rasterio\n",
    "        geometries.append((shapely.geometry.mapping(poly), 1))\n",
    "        \n",
    "    except Exception as e:\n",
    "        if failed == 0:\n",
    "            print(f\"Failed to convert annotation {i}: {e}\")\n",
    "        failed += 1\n",
    "        continue\n",
    "\n",
    "print('Creating mask...')\n",
    "\n",
    "# Rasterize all shapes onto a single map\n",
    "mask = rasterio.features.rasterize(\n",
    "    geometries, out_shape = out_shape, fill = 0, default_value = 1, dtype = rasterio.uint8   \n",
    ")\n",
    "\n",
    "print(f'Failed to convert {failed} annotations')\n",
    "print(f'Skipped {skipped} annotations')"
   ]
  },
  {
   "cell_type": "code",
   "execution_count": 16,
   "id": "0203488b-5ecf-47fc-8b79-d289a7580637",
   "metadata": {},
   "outputs": [],
   "source": [
    "import pyproj\n",
    "\n",
    "source_crs = pyproj.CRS.from_epsg(25832)   \n",
    "target_crs = pyproj.CRS.from_epsg(4326) \n",
    "transformer = pyproj.Transformer.from_crs(source_crs, target_crs, always_xy=True)"
   ]
  },
  {
   "cell_type": "code",
   "execution_count": 17,
   "id": "fc3fa14a-3a08-4822-a5ed-78a6f2792d5d",
   "metadata": {},
   "outputs": [
    {
     "name": "stderr",
     "output_type": "stream",
     "text": [
      "151it [00:00, 1463.50it/s]"
     ]
    },
    {
     "name": "stdout",
     "output_type": "stream",
     "text": [
      "Failed to convert annotation 7: setting an array element with a sequence. The requested array has an inhomogeneous shape after 2 dimensions. The detected shape was (1, 2) + inhomogeneous part.\n"
     ]
    },
    {
     "name": "stderr",
     "output_type": "stream",
     "text": [
      "152920it [01:53, 1349.75it/s]"
     ]
    },
    {
     "name": "stdout",
     "output_type": "stream",
     "text": [
      "59104\n"
     ]
    },
    {
     "name": "stderr",
     "output_type": "stream",
     "text": [
      "\n"
     ]
    }
   ],
   "source": [
    "skipped = 0\n",
    "failed = 0\n",
    "\n",
    "coord_area_lst = []\n",
    "\n",
    "\n",
    "# Loop over the annotations\n",
    "for i, feature in tqdm(enumerate(gj_features)):\n",
    "    geometry = feature['geometry']\n",
    "    coords = geometry['coordinates']\n",
    "    try:\n",
    "        poly = shapely.geometry.shape(geometry)\n",
    "        if not poly.is_valid: # Skip invalid shapes\n",
    "            skipped += 1\n",
    "            continue\n",
    "    \n",
    "        # Get the coordinates of the lake in the form [(x1, y1), (x2, y2), ...]\n",
    "        coords_xy = np.array(coords).reshape(-1, 2)\n",
    "        \n",
    "        # Split x and y coordinates\n",
    "        x, y = coords_xy[:, 0], coords_xy[:, 1]\n",
    "\n",
    "        # Ensure we only keep annotations that are within bounds of our map\n",
    "        x_min, x_max, y_min, y_max = np.min(x), np.max(x), np.min(y), np.max(y)\n",
    "        if x_min <= bounds.left or x_max >= bounds.right or y_min <= bounds.bottom or y_max >= bounds.top:\n",
    "            skipped += 1\n",
    "            continue\n",
    "\n",
    "        # Convert to geographic coordinate system\n",
    "        gcs_coords = [transformer.transform(long, lat) for long, lat in zip(x, y) if isinstance(long, float) and isinstance(lat, float)]\n",
    "        \n",
    "        # Transform the polygon's coordinates to indices within the orthographic raster\n",
    "        y_trans, x_trans = rasterio.transform.rowcol(transform, x, y, op = np.round)\n",
    "        x_trans_min, x_trans_max, y_trans_min, y_trans_max = int(np.min(x_trans)), int(np.max(x_trans)), int(np.min(y_trans)), int(np.max(y_trans))\n",
    "        \n",
    "        mask_crop = mask[x_trans_min:x_trans_max+1, y_trans_min:y_trans_min+1]\n",
    "        mask_ones = (mask_crop == 1).sum()\n",
    "        lake_size = mask_ones * pixel_area\n",
    "        coord_area_lst.append((gcs_coords, lake_size))\n",
    "        \n",
    "    except Exception as e:\n",
    "        if failed == 0:\n",
    "            print(f\"Failed to convert annotation {i}: {e}\")\n",
    "        failed += 1\n",
    "        continue\n",
    "print(skipped)"
   ]
  },
  {
   "cell_type": "code",
   "execution_count": 22,
   "id": "83276563-1b5f-4805-b53a-d56aa2501762",
   "metadata": {},
   "outputs": [
    {
     "name": "stdout",
     "output_type": "stream",
     "text": [
      "([(9.04361131090122, 56.29501711308642), (9.043676277767863, 56.29531351625007), (9.04354710680122, 56.29537644434132), (9.043563385211003, 56.29551126920588), (9.043418134963277, 56.295601138384605), (9.043256619473647, 56.2956820465294), (9.04249726515313, 56.29575416753378), (9.04248123959532, 56.29584400018818), (9.042723823447249, 56.296041629928325), (9.042643303786214, 56.29623927202021), (9.041981119431817, 56.29648212497252), (9.04172254285153, 56.29650915689501), (9.041722758149417, 56.29670677115018), (9.041545040561768, 56.296724799910045), (9.04131875531293, 56.29667097752096), (9.041350809217027, 56.296383525348176), (9.041463774124948, 56.29623967250267), (9.041980577750566, 56.295987985984404), (9.042109397682273, 56.2956015902453), (9.042755244315863, 56.2951970658922), (9.043336518819196, 56.294954326926565), (9.04361131090122, 56.29501711308642)], 8.0)\n"
     ]
    }
   ],
   "source": [
    "for c in coord_area_lst:\n",
    "    if c[1] > 0:\n",
    "        print(c)\n",
    "        break"
   ]
  },
  {
   "cell_type": "code",
   "execution_count": null,
   "id": "9769a0a0-cbe1-470e-a413-4f50a67333e1",
   "metadata": {},
   "outputs": [],
   "source": []
  }
 ],
 "metadata": {
  "kernelspec": {
   "display_name": "Python 3 (ipykernel)",
   "language": "python",
   "name": "python3"
  },
  "language_info": {
   "codemirror_mode": {
    "name": "ipython",
    "version": 3
   },
   "file_extension": ".py",
   "mimetype": "text/x-python",
   "name": "python",
   "nbconvert_exporter": "python",
   "pygments_lexer": "ipython3",
   "version": "3.10.6"
  }
 },
 "nbformat": 4,
 "nbformat_minor": 5
}
