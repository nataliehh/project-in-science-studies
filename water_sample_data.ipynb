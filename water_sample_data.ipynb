{
 "cells": [
  {
   "cell_type": "code",
   "execution_count": 1,
   "id": "1bf268c5-1375-4eaa-a35e-4c159bf20eab",
   "metadata": {},
   "outputs": [
    {
     "name": "stdout",
     "output_type": "stream",
     "text": [
      "Transformed coordinates (X, Y): (587577.7162496436, 6136866.486572812)\n"
     ]
    }
   ],
   "source": [
    "from pyproj import CRS, Transformer\n",
    "\n",
    "source_crs = CRS.from_epsg(4326)  \n",
    "target_crs = CRS.from_epsg(25832) \n",
    "transformer = Transformer.from_crs(source_crs, target_crs, always_xy=True)"
   ]
  },
  {
   "cell_type": "code",
   "execution_count": 4,
   "id": "5a0ba500-4d25-4d48-8feb-17d9e2da4c4e",
   "metadata": {},
   "outputs": [
    {
     "name": "stdout",
     "output_type": "stream",
     "text": [
      "312325 dict_keys(['type', 'name', 'crs', 'features'])\n",
      "152920\n",
      "CPU times: user 57.9 s, sys: 2.95 s, total: 1min\n",
      "Wall time: 1min\n"
     ]
    },
    {
     "data": {
      "text/plain": [
       "{\"geometry\": {\"coordinates\": [[[[501332.248, 6224773.935], [501334.244, 6224779.934], [501334.244, 6224784.933], [501333.246, 6224790.932], [501327.243, 6224789.932], [501317.249, 6224783.933], [501316.243, 6224780.934], [501319.244, 6224774.935], [501324.25, 6224771.936], [501329.247, 6224770.936], [501332.248, 6224773.935]]]], \"type\": \"MultiPolygon\"}, \"properties\": {\"Aendr_kode\": 0, \"Aendrbegr\": \"Ikke udfyldt\", \"Besig_dato\": null, \"Bruger_id\": \"00000000-0000-0000-0000-000000000000\", \"CVR_kode\": 29189919, \"CVR_navn\": \"Herning kommune\", \"Gl_sys_ref\": null, \"Journalnr\": null, \"Link\": null, \"Natyp_kode\": 6, \"Natyp_navn\": \"Sø\", \"Objekt_id\": \"0460cd7c-5353-11e2-af2b-00155d01e765\", \"Off_kode\": 1, \"Offentlig\": \"Synlig for alle\", \"Oprettet\": \"2006-12-31T01:00:00\", \"Oprindelse\": \"Ikke udfyldt\", \"Oprindkode\": 0, \"Sagsbeh\": null, \"Shape_area\": 252.94599999301087, \"Shape_length\": 0.0, \"Status\": \"Gældende / Vedtaget\", \"Statuskode\": 3, \"Systid_fra\": \"2006-12-31T01:00:00\", \"Systid_til\": null, \"Temakode\": 2013, \"Temanavn\": \"Beskyttede naturtyper\", \"Vedligehold_status\": null, \"Vedligehold_tid\": null, \"Version_id\": \"00007d2d-6222-4244-a5ae-f864f263240e\"}, \"type\": \"Feature\"}"
      ]
     },
     "execution_count": 4,
     "metadata": {},
     "output_type": "execute_result"
    }
   ],
   "source": [
    "%%time\n",
    "import geojson\n",
    "# This file contains annotations for different types of nature phenomena (e.g. lakes, forests)\n",
    "path_to_file = './naturtyper_layer.geojson'\n",
    "\n",
    "with open(path_to_file, 'r') as f:\n",
    "    gj = geojson.load(f)\n",
    "print(len(gj['features']), gj.keys())\n",
    "\n",
    "# Filter to the annotations of the lakes around Denmark\n",
    "gj_features = []\n",
    "for feature in gj['features']:\n",
    "    if feature['properties']['Natyp_kode'] == 6: # Code for lakes is 6\n",
    "        gj_features.append(feature)\n",
    "print(len(gj_features))\n",
    "gj_features[0]"
   ]
  },
  {
   "cell_type": "code",
   "execution_count": 5,
   "id": "c080d13e-a5d1-4316-989b-994fcf32ad1b",
   "metadata": {},
   "outputs": [
    {
     "name": "stderr",
     "output_type": "stream",
     "text": [
      "152920it [00:13, 11245.04it/s]\n"
     ]
    }
   ],
   "source": [
    "from tqdm import tqdm\n",
    "import shapely\n",
    "\n",
    "polys = []\n",
    "\n",
    "failed, skipped = 0, 0\n",
    "\n",
    "# Loop over the annotations, get all the polygons\n",
    "for i, feature in tqdm(enumerate(gj_features)):\n",
    "    geometry = feature['geometry']\n",
    "    coords = geometry['coordinates']\n",
    "    try:\n",
    "        poly = shapely.geometry.shape(geometry)\n",
    "        if not poly.is_valid: # Skip invalid shapes\n",
    "            skipped += 1\n",
    "            continue\n",
    "        polys.append(poly)\n",
    "    except:\n",
    "        pass \n",
    "print('Number of polygons:', len(polys))"
   ]
  },
  {
   "cell_type": "markdown",
   "id": "ea15e750-5ed4-49ae-aec4-503e0fd908fb",
   "metadata": {},
   "source": [
    "# Danish water sample data"
   ]
  },
  {
   "cell_type": "code",
   "execution_count": 8,
   "id": "ee4101ee-97fc-4b4a-a64d-b409f53ed7d8",
   "metadata": {},
   "outputs": [],
   "source": [
    "import pandas as pd\n",
    "base_path = './denmark_data/water_samples_{}.xlsx'\n",
    "xls_2020 = pd.ExcelFile(base_path.format(2020))\n",
    "xls_2021 = pd.ExcelFile(base_path.format(2021))\n",
    "xls_2022 = pd.ExcelFile(base_path.format(2022))\n",
    "xls_2023 = pd.ExcelFile(base_path.format(2023))"
   ]
  },
  {
   "cell_type": "code",
   "execution_count": 9,
   "id": "1b50f1f8-0ab8-44b6-816a-01c21c0d9729",
   "metadata": {},
   "outputs": [],
   "source": [
    "df_2020 = pd.read_excel(xls_2020, 'Opdeling')\n",
    "\n",
    "# There's a few sheets with lakes info: 'Sø' is another one which seems to include more?\n",
    "df_2021 = pd.read_excel(xls_2021, 'Vandprøver 2021', header = 1)\n",
    "df_2022 = pd.read_excel(xls_2022, 'Vandprøver 2022', header = 1)\n",
    "df_2023 = pd.read_excel(xls_2023, 'Master', header = 1)\n",
    "\n",
    "# Gather the dataframes together for easier access\n",
    "dfs = [df_2020, df_2021, df_2022, df_2023]"
   ]
  },
  {
   "cell_type": "code",
   "execution_count": 13,
   "id": "3f94b240-5ee8-426a-ac79-2a7b35f4184e",
   "metadata": {},
   "outputs": [],
   "source": [
    "# Obtain the longitudes (x) and latitudes (y) of the lakes from which we have water samples\n",
    "latitude_str = 'Breddegrad'\t\n",
    "longitude_str = 'Længdegrad'\n",
    "latitudes = []\n",
    "longitudes = []\n",
    "for df in dfs:\n",
    "    latitudes_df = df[latitude_str]\n",
    "    longitudes_df = df[longitude_str]\n",
    "    latitudes.extend(latitudes_df.tolist())\n",
    "    longitudes.extend(longitudes_df.tolist())\n",
    "\n",
    "\n",
    "coordinates = [transformer.transform(long, lat) for long, lat in zip(longitudes, latitudes)]\n",
    "# x, y = transformer.transform(longitude, latitude)\n",
    "# coordinates = zip(longitudes, latitudes)"
   ]
  },
  {
   "cell_type": "markdown",
   "id": "88dc8f11-c5d5-4dc7-b45f-51ac739b2af8",
   "metadata": {},
   "source": [
    "# Connect the location of water samples to lakes"
   ]
  },
  {
   "cell_type": "code",
   "execution_count": null,
   "id": "5912a8c8-f2f7-4314-b291-16895a5b63c3",
   "metadata": {},
   "outputs": [],
   "source": [
    "from shapely.geometry import Point, Polygon\n",
    "import geopandas as gpd\n",
    "\n",
    "# Convert x, y coordinates to Point objects\n",
    "point_geometries = [Point(x, y) for x, y in points]\n",
    "\n",
    "# Add the polygons to a GeoDF so we can easily compute distances\n",
    "gdf_polygons = gpd.GeoDataFrame({'geometry': polys})\n",
    "\n",
    "# List to store the index of the closest polygon (one for each point)\n",
    "closest_polygon_idx = []\n",
    "\n",
    "# Calculate the closest polygon for each point, and store the index of that polygon\n",
    "for point in tqdm(point_geometries):\n",
    "    distances = gdf_polygons.distance(point) # Calculate the distance from the point to each polygon\n",
    "    closest_idx = distances.idxmin() # The index of the polygon that's closest to our point\n",
    "    closest_polygon_idx.append(closest_idx)\n",
    "\n",
    "# Print the results\n",
    "for i, point in enumerate(points):\n",
    "    print(f\"Coordinate {point} is closest to polygon number {closest_polygon_idx[i]}\")"
   ]
  }
 ],
 "metadata": {
  "kernelspec": {
   "display_name": "Python 3 (ipykernel)",
   "language": "python",
   "name": "python3"
  },
  "language_info": {
   "codemirror_mode": {
    "name": "ipython",
    "version": 3
   },
   "file_extension": ".py",
   "mimetype": "text/x-python",
   "name": "python",
   "nbconvert_exporter": "python",
   "pygments_lexer": "ipython3",
   "version": "3.10.12"
  }
 },
 "nbformat": 4,
 "nbformat_minor": 5
}
