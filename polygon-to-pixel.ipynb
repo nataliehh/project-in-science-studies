{
 "cells": [
  {
   "cell_type": "code",
   "execution_count": 3,
   "id": "44a7a49c-a8e6-443a-aeb4-11d3dd742faa",
   "metadata": {},
   "outputs": [
    {
     "name": "stdout",
     "output_type": "stream",
     "text": [
      "['Temakode', 'Temanavn', 'Objekt_id', 'Version_id', 'Systid_fra', 'Systid_til', 'Oprettet', 'Oprindkode', 'Oprindelse', 'Statuskode', 'Status', 'Off_kode', 'Offentlig', 'CVR_kode', 'CVR_navn', 'Bruger_id', 'Link', 'Shape_area', 'Shape_length', 'Natyp_kode', 'Natyp_navn', 'Aendr_kode', 'Aendrbegr', 'Sagsbeh', 'Gl_sys_ref', 'Besig_dato', 'Journalnr', 'Vedligehold_status', 'Vedligehold_tid']\n"
     ]
    },
    {
     "data": {
      "text/plain": [
       "0         1\n",
       "1         4\n",
       "2         6\n",
       "3         3\n",
       "4         3\n",
       "         ..\n",
       "312320    6\n",
       "312321    6\n",
       "312322    6\n",
       "312323    3\n",
       "312324    6\n",
       "Name: Natyp_kode, Length: 312325, dtype: int64"
      ]
     },
     "execution_count": 3,
     "metadata": {},
     "output_type": "execute_result"
    }
   ],
   "source": [
    "import pandas as pd\n",
    "df = pd.read_csv('./naturtyper_csv_layer.csv')\n",
    "print(df.columns.tolist())\n",
    "df['Natyp_kode']"
   ]
  },
  {
   "cell_type": "code",
   "execution_count": 4,
   "id": "cb6d7e08-d593-48b4-8021-4741fb19c01f",
   "metadata": {},
   "outputs": [],
   "source": [
    "df_filtered = df[df['Natyp_kode'] == 6]"
   ]
  },
  {
   "cell_type": "code",
   "execution_count": 5,
   "id": "f79ecb81-7479-49e2-a4ae-d3db751bba58",
   "metadata": {},
   "outputs": [
    {
     "data": {
      "text/plain": [
       "2          252.946000\n",
       "5          645.341733\n",
       "8           81.784551\n",
       "13         359.060465\n",
       "14         773.002146\n",
       "             ...     \n",
       "312319     798.086120\n",
       "312320    1752.970804\n",
       "312321     355.864154\n",
       "312322     859.631064\n",
       "312324     496.144574\n",
       "Name: Shape_area, Length: 152920, dtype: float64"
      ]
     },
     "execution_count": 5,
     "metadata": {},
     "output_type": "execute_result"
    }
   ],
   "source": [
    "df_filtered['Shape_area']"
   ]
  },
  {
   "cell_type": "code",
   "execution_count": 7,
   "id": "b7711d9f-1c2f-4a13-bec1-6b58089e80d1",
   "metadata": {},
   "outputs": [],
   "source": [
    "import geojson"
   ]
  },
  {
   "cell_type": "code",
   "execution_count": 12,
   "id": "5cc421ae-f908-4fe5-b809-965778b83bf6",
   "metadata": {},
   "outputs": [],
   "source": [
    "path_to_file = './naturtyper_layer.geojson'\n",
    "\n",
    "with open(path_to_file, 'r') as f:\n",
    "    gj = geojson.load(f)"
   ]
  },
  {
   "cell_type": "code",
   "execution_count": 28,
   "id": "56e50c1e-5083-4398-8d4d-563ffa77c075",
   "metadata": {},
   "outputs": [
    {
     "name": "stderr",
     "output_type": "stream",
     "text": [
      "100%|███████████████████████████████████████████████████████████████████████| 312325/312325 [00:00<00:00, 992219.70it/s]\n"
     ]
    },
    {
     "data": {
      "text/plain": [
       "{\"geometry\": {\"coordinates\": [[[[501332.248, 6224773.935], [501334.244, 6224779.934], [501334.244, 6224784.933], [501333.246, 6224790.932], [501327.243, 6224789.932], [501317.249, 6224783.933], [501316.243, 6224780.934], [501319.244, 6224774.935], [501324.25, 6224771.936], [501329.247, 6224770.936], [501332.248, 6224773.935]]]], \"type\": \"MultiPolygon\"}, \"properties\": {\"Aendr_kode\": 0, \"Aendrbegr\": \"Ikke udfyldt\", \"Besig_dato\": null, \"Bruger_id\": \"00000000-0000-0000-0000-000000000000\", \"CVR_kode\": 29189919, \"CVR_navn\": \"Herning kommune\", \"Gl_sys_ref\": null, \"Journalnr\": null, \"Link\": null, \"Natyp_kode\": 6, \"Natyp_navn\": \"Sø\", \"Objekt_id\": \"0460cd7c-5353-11e2-af2b-00155d01e765\", \"Off_kode\": 1, \"Offentlig\": \"Synlig for alle\", \"Oprettet\": \"2006-12-31T01:00:00\", \"Oprindelse\": \"Ikke udfyldt\", \"Oprindkode\": 0, \"Sagsbeh\": null, \"Shape_area\": 252.94599999301087, \"Shape_length\": 0.0, \"Status\": \"Gældende / Vedtaget\", \"Statuskode\": 3, \"Systid_fra\": \"2006-12-31T01:00:00\", \"Systid_til\": null, \"Temakode\": 2013, \"Temanavn\": \"Beskyttede naturtyper\", \"Vedligehold_status\": null, \"Vedligehold_tid\": null, \"Version_id\": \"00007d2d-6222-4244-a5ae-f864f263240e\"}, \"type\": \"Feature\"}"
      ]
     },
     "execution_count": 28,
     "metadata": {},
     "output_type": "execute_result"
    }
   ],
   "source": [
    "from tqdm import tqdm\n",
    "len(gj['features']), gj.keys()\n",
    "gj_features = []\n",
    "for feature in tqdm(gj['features']):\n",
    "    if feature['properties']['Natyp_kode'] == 6: # Code for lakes is 6\n",
    "        gj_features.append(feature)\n",
    "# gj['features'][0]['properties']\n",
    "len(gj_features)\n",
    "gj_features[0]"
   ]
  },
  {
   "cell_type": "code",
   "execution_count": 88,
   "id": "208f569e-6604-41d0-8f9d-8662e4b7fdd8",
   "metadata": {},
   "outputs": [
    {
     "name": "stderr",
     "output_type": "stream",
     "text": [
      "2it [00:00, 188.47it/s]\n"
     ]
    }
   ],
   "source": [
    "import rasterio.features\n",
    "import numpy as np\n",
    "from shapely.geometry import MultiPolygon\n",
    "for i, feature in tqdm(enumerate(gj_features)):\n",
    "    geometry = feature['geometry']\n",
    "    coords = geometry['coordinates']\n",
    "    if geometry['type'] != 'MultiPolygon':\n",
    "        print(f'NOT A MULTIPOLYGON!!! Idx {i}')\n",
    "    b = poly.bounds # min x, min y, max x, max y\n",
    "    x, y = b[2] - b[0], b[-1] - b[1]\n",
    "    # print(len(coords))\n",
    "    # print(coords)\n",
    "    # coords_np = np.squeeze(np.array(coords))\n",
    "    poly = MultiPolygon(coords)\n",
    "    mask = rasterio.features.rasterize([poly], out_shape=(round(x*100), round(y*100)))\n",
    "    if i == 2:\n",
    "        break\n",
    "# example = gj_features[0]['geometry']\n",
    "# print(example)"
   ]
  },
  {
   "cell_type": "code",
   "execution_count": 89,
   "id": "d5104718-59b3-4eef-947f-7fc51dc6d9cf",
   "metadata": {},
   "outputs": [
    {
     "data": {
      "image/svg+xml": [
       "<svg xmlns=\"http://www.w3.org/2000/svg\" xmlns:xlink=\"http://www.w3.org/1999/xlink\" width=\"100.0\" height=\"100.0\" viewBox=\"693856.065348 6132880.242048 8.612503999960609 17.203104000538588\" preserveAspectRatio=\"xMinYMin meet\"><g transform=\"matrix(1,0,0,-1,0,12265777.6872)\"><g><path fill-rule=\"evenodd\" fill=\"#66cc99\" stroke=\"#555555\" stroke-width=\"0.34406208001077176\" opacity=\"0.6\" d=\"M 693859.6558,6132882.0424 L 693861.5351,6132886.5167 L 693863.8616,6132892.6915 L 693864.0407,6132896.808 L 693858.045,6132896.629 L 693857.0606,6132895.5552 L 693856.7025,6132883.2057 L 693857.2396,6132880.8792 L 693859.6558,6132882.0424 z\" /></g></g></svg>"
      ],
      "text/plain": [
       "<MULTIPOLYGON (((693859.656 6132882.042, 693861.535 6132886.517, 693863.862 ...>"
      ]
     },
     "execution_count": 89,
     "metadata": {},
     "output_type": "execute_result"
    }
   ],
   "source": [
    "poly"
   ]
  },
  {
   "cell_type": "code",
   "execution_count": 90,
   "id": "449a72b0-870c-46d8-a748-6976c291bf6f",
   "metadata": {},
   "outputs": [
    {
     "data": {
      "text/plain": [
       "((array([], dtype=int64), array([], dtype=int64)), array([0], dtype=uint8))"
      ]
     },
     "execution_count": 90,
     "metadata": {},
     "output_type": "execute_result"
    }
   ],
   "source": [
    "np.where(mask==1), np.unique(mask)"
   ]
  },
  {
   "cell_type": "code",
   "execution_count": 72,
   "id": "153de3f9-8180-4921-9815-1755602701e6",
   "metadata": {},
   "outputs": [
    {
     "data": {
      "text/plain": [
       "(7.338199999998324, 15.92879999987781)"
      ]
     },
     "execution_count": 72,
     "metadata": {},
     "output_type": "execute_result"
    }
   ],
   "source": [
    "b = poly.bounds # min x, min y, max x, max y\n",
    "x, y = b[2] - b[0], b[-1] - b[1]"
   ]
  },
  {
   "cell_type": "code",
   "execution_count": 66,
   "id": "9d9c330a-3293-4bdb-9773-143d688d4f1d",
   "metadata": {},
   "outputs": [
    {
     "data": {
      "text/plain": [
       "['__and__',\n",
       " '__bool__',\n",
       " '__class__',\n",
       " '__delattr__',\n",
       " '__dir__',\n",
       " '__doc__',\n",
       " '__eq__',\n",
       " '__format__',\n",
       " '__ge__',\n",
       " '__geo_interface__',\n",
       " '__getattribute__',\n",
       " '__gt__',\n",
       " '__hash__',\n",
       " '__init__',\n",
       " '__init_subclass__',\n",
       " '__le__',\n",
       " '__lt__',\n",
       " '__module__',\n",
       " '__ne__',\n",
       " '__new__',\n",
       " '__nonzero__',\n",
       " '__or__',\n",
       " '__reduce__',\n",
       " '__reduce_ex__',\n",
       " '__repr__',\n",
       " '__setattr__',\n",
       " '__setstate__',\n",
       " '__sizeof__',\n",
       " '__slots__',\n",
       " '__str__',\n",
       " '__sub__',\n",
       " '__subclasshook__',\n",
       " '__xor__',\n",
       " '_geom',\n",
       " '_geom_prepared',\n",
       " '_ndim',\n",
       " '_repr_svg_',\n",
       " 'almost_equals',\n",
       " 'area',\n",
       " 'boundary',\n",
       " 'bounds',\n",
       " 'buffer',\n",
       " 'centroid',\n",
       " 'contains',\n",
       " 'contains_properly',\n",
       " 'convex_hull',\n",
       " 'coords',\n",
       " 'covered_by',\n",
       " 'covers',\n",
       " 'crosses',\n",
       " 'difference',\n",
       " 'disjoint',\n",
       " 'distance',\n",
       " 'dwithin',\n",
       " 'envelope',\n",
       " 'equals',\n",
       " 'equals_exact',\n",
       " 'geom_type',\n",
       " 'geometryType',\n",
       " 'geoms',\n",
       " 'has_z',\n",
       " 'hausdorff_distance',\n",
       " 'interpolate',\n",
       " 'intersection',\n",
       " 'intersects',\n",
       " 'is_closed',\n",
       " 'is_empty',\n",
       " 'is_ring',\n",
       " 'is_simple',\n",
       " 'is_valid',\n",
       " 'length',\n",
       " 'line_interpolate_point',\n",
       " 'line_locate_point',\n",
       " 'minimum_clearance',\n",
       " 'minimum_rotated_rectangle',\n",
       " 'normalize',\n",
       " 'oriented_envelope',\n",
       " 'overlaps',\n",
       " 'point_on_surface',\n",
       " 'project',\n",
       " 'relate',\n",
       " 'relate_pattern',\n",
       " 'representative_point',\n",
       " 'reverse',\n",
       " 'segmentize',\n",
       " 'simplify',\n",
       " 'svg',\n",
       " 'symmetric_difference',\n",
       " 'touches',\n",
       " 'type',\n",
       " 'union',\n",
       " 'within',\n",
       " 'wkb',\n",
       " 'wkb_hex',\n",
       " 'wkt',\n",
       " 'xy']"
      ]
     },
     "execution_count": 66,
     "metadata": {},
     "output_type": "execute_result"
    }
   ],
   "source": [
    "dir(poly)"
   ]
  },
  {
   "cell_type": "code",
   "execution_count": 34,
   "id": "ad628931-5b6a-4579-99c8-beb302726705",
   "metadata": {},
   "outputs": [
    {
     "name": "stdout",
     "output_type": "stream",
     "text": [
      "[[[[501332.248, 6224773.935], [501334.244, 6224779.934], [501334.244, 6224784.933], [501333.246, 6224790.932], [501327.243, 6224789.932], [501317.249, 6224783.933], [501316.243, 6224780.934], [501319.244, 6224774.935], [501324.25, 6224771.936], [501329.247, 6224770.936], [501332.248, 6224773.935]]]]\n"
     ]
    }
   ],
   "source": [
    "\n",
    "\n",
    "coords = example['coordinates']\n",
    "print(coords)"
   ]
  },
  {
   "cell_type": "code",
   "execution_count": 45,
   "id": "ec224e0e-a2fd-4f1d-b2f2-8d236ebcda78",
   "metadata": {},
   "outputs": [
    {
     "data": {
      "text/plain": [
       "((11, 2),\n",
       " array([[ 501332.248, 6224773.935],\n",
       "        [ 501334.244, 6224779.934],\n",
       "        [ 501334.244, 6224784.933],\n",
       "        [ 501333.246, 6224790.932],\n",
       "        [ 501327.243, 6224789.932],\n",
       "        [ 501317.249, 6224783.933],\n",
       "        [ 501316.243, 6224780.934],\n",
       "        [ 501319.244, 6224774.935],\n",
       "        [ 501324.25 , 6224771.936],\n",
       "        [ 501329.247, 6224770.936],\n",
       "        [ 501332.248, 6224773.935]]))"
      ]
     },
     "execution_count": 45,
     "metadata": {},
     "output_type": "execute_result"
    }
   ],
   "source": [
    "\n",
    "coords_np = np.array(coords[0][0])\n",
    "coords_np.shape, coords_np"
   ]
  },
  {
   "cell_type": "code",
   "execution_count": 48,
   "id": "d9008ea9-9585-4385-ad7e-631501bec9c3",
   "metadata": {},
   "outputs": [],
   "source": [
    "\n",
    "poly = Polygon(coords[0][0])"
   ]
  },
  {
   "cell_type": "code",
   "execution_count": 49,
   "id": "8c70756b-036f-4f16-93d7-30f92b95a084",
   "metadata": {},
   "outputs": [
    {
     "data": {
      "text/plain": [
       "array([[0, 0, 0, ..., 0, 0, 0],\n",
       "       [0, 0, 0, ..., 0, 0, 0],\n",
       "       [0, 0, 0, ..., 0, 0, 0],\n",
       "       ...,\n",
       "       [0, 0, 0, ..., 0, 0, 0],\n",
       "       [0, 0, 0, ..., 0, 0, 0],\n",
       "       [0, 0, 0, ..., 0, 0, 0]], dtype=uint8)"
      ]
     },
     "execution_count": 49,
     "metadata": {},
     "output_type": "execute_result"
    }
   ],
   "source": [
    "rasterio.features.rasterize([poly], out_shape=(60, 50))"
   ]
  },
  {
   "cell_type": "code",
   "execution_count": null,
   "id": "3201fd15-4d4a-4102-a180-ceda79bf39fa",
   "metadata": {},
   "outputs": [],
   "source": [
    "from shapely.geometry import Polygon\n",
    "import rasterio.features\n",
    "import matplotlib.pyplot as plt\n",
    "\n",
    "poly = Polygon([(0, 50), (10, 10), (30, 0), (45, 45), (0, 50)])\n",
    "img = rasterio.features.rasterize([poly], out_shape=(60, 50))\n",
    "plt.imshow(img)"
   ]
  }
 ],
 "metadata": {
  "kernelspec": {
   "display_name": "Python 3 (ipykernel)",
   "language": "python",
   "name": "python3"
  },
  "language_info": {
   "codemirror_mode": {
    "name": "ipython",
    "version": 3
   },
   "file_extension": ".py",
   "mimetype": "text/x-python",
   "name": "python",
   "nbconvert_exporter": "python",
   "pygments_lexer": "ipython3",
   "version": "3.10.12"
  }
 },
 "nbformat": 4,
 "nbformat_minor": 5
}
