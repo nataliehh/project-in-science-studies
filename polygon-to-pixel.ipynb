{
 "cells": [
  {
   "cell_type": "code",
   "execution_count": 3,
   "id": "44a7a49c-a8e6-443a-aeb4-11d3dd742faa",
   "metadata": {},
   "outputs": [
    {
     "name": "stdout",
     "output_type": "stream",
     "text": [
      "['Temakode', 'Temanavn', 'Objekt_id', 'Version_id', 'Systid_fra', 'Systid_til', 'Oprettet', 'Oprindkode', 'Oprindelse', 'Statuskode', 'Status', 'Off_kode', 'Offentlig', 'CVR_kode', 'CVR_navn', 'Bruger_id', 'Link', 'Shape_area', 'Shape_length', 'Natyp_kode', 'Natyp_navn', 'Aendr_kode', 'Aendrbegr', 'Sagsbeh', 'Gl_sys_ref', 'Besig_dato', 'Journalnr', 'Vedligehold_status', 'Vedligehold_tid']\n"
     ]
    },
    {
     "data": {
      "text/plain": [
       "0         1\n",
       "1         4\n",
       "2         6\n",
       "3         3\n",
       "4         3\n",
       "         ..\n",
       "312320    6\n",
       "312321    6\n",
       "312322    6\n",
       "312323    3\n",
       "312324    6\n",
       "Name: Natyp_kode, Length: 312325, dtype: int64"
      ]
     },
     "execution_count": 3,
     "metadata": {},
     "output_type": "execute_result"
    }
   ],
   "source": [
    "import pandas as pd\n",
    "df = pd.read_csv('./naturtyper_csv_layer.csv')\n",
    "print(df.columns.tolist())\n",
    "df['Natyp_kode']"
   ]
  },
  {
   "cell_type": "code",
   "execution_count": 4,
   "id": "cb6d7e08-d593-48b4-8021-4741fb19c01f",
   "metadata": {},
   "outputs": [],
   "source": [
    "df_filtered = df[df['Natyp_kode'] == 6]"
   ]
  },
  {
   "cell_type": "code",
   "execution_count": 5,
   "id": "f79ecb81-7479-49e2-a4ae-d3db751bba58",
   "metadata": {},
   "outputs": [
    {
     "data": {
      "text/plain": [
       "2          252.946000\n",
       "5          645.341733\n",
       "8           81.784551\n",
       "13         359.060465\n",
       "14         773.002146\n",
       "             ...     \n",
       "312319     798.086120\n",
       "312320    1752.970804\n",
       "312321     355.864154\n",
       "312322     859.631064\n",
       "312324     496.144574\n",
       "Name: Shape_area, Length: 152920, dtype: float64"
      ]
     },
     "execution_count": 5,
     "metadata": {},
     "output_type": "execute_result"
    }
   ],
   "source": [
    "df_filtered['Shape_area']"
   ]
  },
  {
   "cell_type": "code",
   "execution_count": 7,
   "id": "b7711d9f-1c2f-4a13-bec1-6b58089e80d1",
   "metadata": {},
   "outputs": [],
   "source": [
    "import geojson"
   ]
  },
  {
   "cell_type": "code",
   "execution_count": 12,
   "id": "5cc421ae-f908-4fe5-b809-965778b83bf6",
   "metadata": {},
   "outputs": [],
   "source": [
    "path_to_file = './naturtyper_layer.geojson'\n",
    "\n",
    "with open(path_to_file, 'r') as f:\n",
    "    gj = geojson.load(f)"
   ]
  },
  {
   "cell_type": "code",
   "execution_count": 28,
   "id": "56e50c1e-5083-4398-8d4d-563ffa77c075",
   "metadata": {},
   "outputs": [
    {
     "name": "stderr",
     "output_type": "stream",
     "text": [
      "100%|███████████████████████████████████████████████████████████████████████| 312325/312325 [00:00<00:00, 992219.70it/s]\n"
     ]
    },
    {
     "data": {
      "text/plain": [
       "{\"geometry\": {\"coordinates\": [[[[501332.248, 6224773.935], [501334.244, 6224779.934], [501334.244, 6224784.933], [501333.246, 6224790.932], [501327.243, 6224789.932], [501317.249, 6224783.933], [501316.243, 6224780.934], [501319.244, 6224774.935], [501324.25, 6224771.936], [501329.247, 6224770.936], [501332.248, 6224773.935]]]], \"type\": \"MultiPolygon\"}, \"properties\": {\"Aendr_kode\": 0, \"Aendrbegr\": \"Ikke udfyldt\", \"Besig_dato\": null, \"Bruger_id\": \"00000000-0000-0000-0000-000000000000\", \"CVR_kode\": 29189919, \"CVR_navn\": \"Herning kommune\", \"Gl_sys_ref\": null, \"Journalnr\": null, \"Link\": null, \"Natyp_kode\": 6, \"Natyp_navn\": \"Sø\", \"Objekt_id\": \"0460cd7c-5353-11e2-af2b-00155d01e765\", \"Off_kode\": 1, \"Offentlig\": \"Synlig for alle\", \"Oprettet\": \"2006-12-31T01:00:00\", \"Oprindelse\": \"Ikke udfyldt\", \"Oprindkode\": 0, \"Sagsbeh\": null, \"Shape_area\": 252.94599999301087, \"Shape_length\": 0.0, \"Status\": \"Gældende / Vedtaget\", \"Statuskode\": 3, \"Systid_fra\": \"2006-12-31T01:00:00\", \"Systid_til\": null, \"Temakode\": 2013, \"Temanavn\": \"Beskyttede naturtyper\", \"Vedligehold_status\": null, \"Vedligehold_tid\": null, \"Version_id\": \"00007d2d-6222-4244-a5ae-f864f263240e\"}, \"type\": \"Feature\"}"
      ]
     },
     "execution_count": 28,
     "metadata": {},
     "output_type": "execute_result"
    }
   ],
   "source": [
    "from tqdm import tqdm\n",
    "len(gj['features']), gj.keys()\n",
    "gj_features = []\n",
    "for feature in tqdm(gj['features']):\n",
    "    if feature['properties']['Natyp_kode'] == 6: # Code for lakes is 6\n",
    "        gj_features.append(feature)\n",
    "# gj['features'][0]['properties']\n",
    "len(gj_features)\n",
    "gj_features[0]"
   ]
  },
  {
   "cell_type": "code",
   "execution_count": null,
   "id": "208f569e-6604-41d0-8f9d-8662e4b7fdd8",
   "metadata": {},
   "outputs": [
    {
     "name": "stderr",
     "output_type": "stream",
     "text": [
      "  7%|█████                                                                     | 10492/152920 [00:07<01:30, 1575.09it/s]"
     ]
    }
   ],
   "source": [
    "import rasterio.features\n",
    "import numpy as np\n",
    "for feature in tqdm(gj_features):\n",
    "    coords = feature['geometry']['coordinates']\n",
    "    # print(len(coords))\n",
    "    # print(coords)\n",
    "    # coords_np = np.squeeze(np.array(coords))\n",
    "    poly = Polygon(coords[0][0])\n",
    "    mask = rasterio.features.rasterize([poly], out_shape=(60, 50))\n",
    "example = gj_features[0]['geometry']\n",
    "print(example)"
   ]
  },
  {
   "cell_type": "code",
   "execution_count": 34,
   "id": "ad628931-5b6a-4579-99c8-beb302726705",
   "metadata": {},
   "outputs": [
    {
     "name": "stdout",
     "output_type": "stream",
     "text": [
      "[[[[501332.248, 6224773.935], [501334.244, 6224779.934], [501334.244, 6224784.933], [501333.246, 6224790.932], [501327.243, 6224789.932], [501317.249, 6224783.933], [501316.243, 6224780.934], [501319.244, 6224774.935], [501324.25, 6224771.936], [501329.247, 6224770.936], [501332.248, 6224773.935]]]]\n"
     ]
    }
   ],
   "source": [
    "\n",
    "\n",
    "coords = example['coordinates']\n",
    "print(coords)"
   ]
  },
  {
   "cell_type": "code",
   "execution_count": 45,
   "id": "ec224e0e-a2fd-4f1d-b2f2-8d236ebcda78",
   "metadata": {},
   "outputs": [
    {
     "data": {
      "text/plain": [
       "((11, 2),\n",
       " array([[ 501332.248, 6224773.935],\n",
       "        [ 501334.244, 6224779.934],\n",
       "        [ 501334.244, 6224784.933],\n",
       "        [ 501333.246, 6224790.932],\n",
       "        [ 501327.243, 6224789.932],\n",
       "        [ 501317.249, 6224783.933],\n",
       "        [ 501316.243, 6224780.934],\n",
       "        [ 501319.244, 6224774.935],\n",
       "        [ 501324.25 , 6224771.936],\n",
       "        [ 501329.247, 6224770.936],\n",
       "        [ 501332.248, 6224773.935]]))"
      ]
     },
     "execution_count": 45,
     "metadata": {},
     "output_type": "execute_result"
    }
   ],
   "source": [
    "\n",
    "coords_np = np.array(coords[0][0])\n",
    "coords_np.shape, coords_np"
   ]
  },
  {
   "cell_type": "code",
   "execution_count": 48,
   "id": "d9008ea9-9585-4385-ad7e-631501bec9c3",
   "metadata": {},
   "outputs": [],
   "source": [
    "from shapely.geometry import MultiPolygon\n",
    "poly = Polygon(coords[0][0])"
   ]
  },
  {
   "cell_type": "code",
   "execution_count": 49,
   "id": "8c70756b-036f-4f16-93d7-30f92b95a084",
   "metadata": {},
   "outputs": [
    {
     "data": {
      "text/plain": [
       "array([[0, 0, 0, ..., 0, 0, 0],\n",
       "       [0, 0, 0, ..., 0, 0, 0],\n",
       "       [0, 0, 0, ..., 0, 0, 0],\n",
       "       ...,\n",
       "       [0, 0, 0, ..., 0, 0, 0],\n",
       "       [0, 0, 0, ..., 0, 0, 0],\n",
       "       [0, 0, 0, ..., 0, 0, 0]], dtype=uint8)"
      ]
     },
     "execution_count": 49,
     "metadata": {},
     "output_type": "execute_result"
    }
   ],
   "source": [
    "rasterio.features.rasterize([poly], out_shape=(60, 50))"
   ]
  },
  {
   "cell_type": "code",
   "execution_count": null,
   "id": "3201fd15-4d4a-4102-a180-ceda79bf39fa",
   "metadata": {},
   "outputs": [],
   "source": [
    "from shapely.geometry import Polygon\n",
    "import rasterio.features\n",
    "import matplotlib.pyplot as plt\n",
    "\n",
    "poly = Polygon([(0, 50), (10, 10), (30, 0), (45, 45), (0, 50)])\n",
    "img = rasterio.features.rasterize([poly], out_shape=(60, 50))\n",
    "plt.imshow(img)"
   ]
  }
 ],
 "metadata": {
  "kernelspec": {
   "display_name": "Python 3 (ipykernel)",
   "language": "python",
   "name": "python3"
  },
  "language_info": {
   "codemirror_mode": {
    "name": "ipython",
    "version": 3
   },
   "file_extension": ".py",
   "mimetype": "text/x-python",
   "name": "python",
   "nbconvert_exporter": "python",
   "pygments_lexer": "ipython3",
   "version": "3.10.12"
  }
 },
 "nbformat": 4,
 "nbformat_minor": 5
}
