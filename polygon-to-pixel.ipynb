{
 "cells": [
  {
   "cell_type": "code",
   "execution_count": 1,
   "id": "44a7a49c-a8e6-443a-aeb4-11d3dd742faa",
   "metadata": {},
   "outputs": [
    {
     "name": "stdout",
     "output_type": "stream",
     "text": [
      "['Temakode', 'Temanavn', 'Objekt_id', 'Version_id', 'Systid_fra', 'Systid_til', 'Oprettet', 'Oprindkode', 'Oprindelse', 'Statuskode', 'Status', 'Off_kode', 'Offentlig', 'CVR_kode', 'CVR_navn', 'Bruger_id', 'Link', 'Shape_area', 'Shape_length', 'Natyp_kode', 'Natyp_navn', 'Aendr_kode', 'Aendrbegr', 'Sagsbeh', 'Gl_sys_ref', 'Besig_dato', 'Journalnr', 'Vedligehold_status', 'Vedligehold_tid']\n"
     ]
    },
    {
     "data": {
      "text/plain": [
       "0         1\n",
       "1         4\n",
       "2         6\n",
       "3         3\n",
       "4         3\n",
       "         ..\n",
       "312320    6\n",
       "312321    6\n",
       "312322    6\n",
       "312323    3\n",
       "312324    6\n",
       "Name: Natyp_kode, Length: 312325, dtype: int64"
      ]
     },
     "execution_count": 1,
     "metadata": {},
     "output_type": "execute_result"
    }
   ],
   "source": [
    "import pandas as pd\n",
    "df = pd.read_csv('./naturtyper_csv_layer.csv')\n",
    "print(df.columns.tolist())\n",
    "df['Natyp_kode']"
   ]
  },
  {
   "cell_type": "code",
   "execution_count": 2,
   "id": "cb6d7e08-d593-48b4-8021-4741fb19c01f",
   "metadata": {},
   "outputs": [],
   "source": [
    "df_filtered = df[df['Natyp_kode'] == 6]"
   ]
  },
  {
   "cell_type": "code",
   "execution_count": 3,
   "id": "f79ecb81-7479-49e2-a4ae-d3db751bba58",
   "metadata": {},
   "outputs": [
    {
     "data": {
      "text/plain": [
       "2          252.946000\n",
       "5          645.341733\n",
       "8           81.784551\n",
       "13         359.060465\n",
       "14         773.002146\n",
       "             ...     \n",
       "312319     798.086120\n",
       "312320    1752.970804\n",
       "312321     355.864154\n",
       "312322     859.631064\n",
       "312324     496.144574\n",
       "Name: Shape_area, Length: 152920, dtype: float64"
      ]
     },
     "execution_count": 3,
     "metadata": {},
     "output_type": "execute_result"
    }
   ],
   "source": [
    "df_filtered['Shape_area']"
   ]
  },
  {
   "cell_type": "code",
   "execution_count": 4,
   "id": "b7711d9f-1c2f-4a13-bec1-6b58089e80d1",
   "metadata": {},
   "outputs": [],
   "source": [
    "import geojson"
   ]
  },
  {
   "cell_type": "code",
   "execution_count": 5,
   "id": "5cc421ae-f908-4fe5-b809-965778b83bf6",
   "metadata": {},
   "outputs": [],
   "source": [
    "path_to_file = './naturtyper_layer.geojson'\n",
    "\n",
    "with open(path_to_file, 'r') as f:\n",
    "    gj = geojson.load(f)"
   ]
  },
  {
   "cell_type": "code",
   "execution_count": 6,
   "id": "56e50c1e-5083-4398-8d4d-563ffa77c075",
   "metadata": {},
   "outputs": [
    {
     "name": "stderr",
     "output_type": "stream",
     "text": [
      "100%|███████████████████████████████████████████████████████████████████████| 312325/312325 [00:00<00:00, 723296.01it/s]\n"
     ]
    },
    {
     "data": {
      "text/plain": [
       "{\"geometry\": {\"coordinates\": [[[[501332.248, 6224773.935], [501334.244, 6224779.934], [501334.244, 6224784.933], [501333.246, 6224790.932], [501327.243, 6224789.932], [501317.249, 6224783.933], [501316.243, 6224780.934], [501319.244, 6224774.935], [501324.25, 6224771.936], [501329.247, 6224770.936], [501332.248, 6224773.935]]]], \"type\": \"MultiPolygon\"}, \"properties\": {\"Aendr_kode\": 0, \"Aendrbegr\": \"Ikke udfyldt\", \"Besig_dato\": null, \"Bruger_id\": \"00000000-0000-0000-0000-000000000000\", \"CVR_kode\": 29189919, \"CVR_navn\": \"Herning kommune\", \"Gl_sys_ref\": null, \"Journalnr\": null, \"Link\": null, \"Natyp_kode\": 6, \"Natyp_navn\": \"Sø\", \"Objekt_id\": \"0460cd7c-5353-11e2-af2b-00155d01e765\", \"Off_kode\": 1, \"Offentlig\": \"Synlig for alle\", \"Oprettet\": \"2006-12-31T01:00:00\", \"Oprindelse\": \"Ikke udfyldt\", \"Oprindkode\": 0, \"Sagsbeh\": null, \"Shape_area\": 252.94599999301087, \"Shape_length\": 0.0, \"Status\": \"Gældende / Vedtaget\", \"Statuskode\": 3, \"Systid_fra\": \"2006-12-31T01:00:00\", \"Systid_til\": null, \"Temakode\": 2013, \"Temanavn\": \"Beskyttede naturtyper\", \"Vedligehold_status\": null, \"Vedligehold_tid\": null, \"Version_id\": \"00007d2d-6222-4244-a5ae-f864f263240e\"}, \"type\": \"Feature\"}"
      ]
     },
     "execution_count": 6,
     "metadata": {},
     "output_type": "execute_result"
    }
   ],
   "source": [
    "from tqdm import tqdm\n",
    "len(gj['features']), gj.keys()\n",
    "gj_features = []\n",
    "for feature in tqdm(gj['features']):\n",
    "    if feature['properties']['Natyp_kode'] == 6: # Code for lakes is 6\n",
    "        gj_features.append(feature)\n",
    "# gj['features'][0]['properties']\n",
    "len(gj_features)\n",
    "gj_features[0]"
   ]
  },
  {
   "cell_type": "code",
   "execution_count": 56,
   "id": "208f569e-6604-41d0-8f9d-8662e4b7fdd8",
   "metadata": {},
   "outputs": [
    {
     "name": "stderr",
     "output_type": "stream",
     "text": [
      "0it [00:00, ?it/s]"
     ]
    },
    {
     "data": {
      "image/svg+xml": [
       "<svg xmlns=\"http://www.w3.org/2000/svg\" xmlns:xlink=\"http://www.w3.org/1999/xlink\" width=\"100.0\" height=\"100.0\" viewBox=\"501315.44316 6224770.136159999 19.60067999997409 21.595680001191795\" preserveAspectRatio=\"xMinYMin meet\"><g transform=\"matrix(1,0,0,-1,0,12449561.868)\"><g><path fill-rule=\"evenodd\" fill=\"#66cc99\" stroke=\"#555555\" stroke-width=\"0.4319136000238359\" opacity=\"0.6\" d=\"M 501332.248,6224773.935 L 501334.244,6224779.934 L 501334.244,6224784.933 L 501333.246,6224790.932 L 501327.243,6224789.932 L 501317.249,6224783.933 L 501316.243,6224780.934 L 501319.244,6224774.935 L 501324.25,6224771.936 L 501329.247,6224770.936 L 501332.248,6224773.935 z\" /></g></g></svg>"
      ],
      "text/plain": [
       "<MULTIPOLYGON (((501332.248 6224773.935, 501334.244 6224779.934, 501334.244 ...>"
      ]
     },
     "metadata": {},
     "output_type": "display_data"
    },
    {
     "data": {
      "image/svg+xml": [
       "<svg xmlns=\"http://www.w3.org/2000/svg\" xmlns:xlink=\"http://www.w3.org/1999/xlink\" width=\"100.0\" height=\"100.0\" viewBox=\"-0.7998400000110268 -0.7998400000110268 19.600680000011344 21.595680000297726\" preserveAspectRatio=\"xMinYMin meet\"><g transform=\"matrix(1,0,0,-1,0,19.99600000027567)\"><g><path fill-rule=\"evenodd\" fill=\"#66cc99\" stroke=\"#555555\" stroke-width=\"0.4319136000059545\" opacity=\"0.6\" d=\"M 16.005000000004657,2.9989999998360872 L 18.00099999998929,8.998000000603497 L 18.00099999998929,13.997000000439584 L 17.00299999996787,19.99600000027567 L 11.0,18.99600000027567 L 1.0059999999939464,12.997000000439584 L 0.0,9.998000000603497 L 3.00099999998929,3.9989999998360872 L 8.006999999983236,1.0 L 13.00399999995716,0.0 L 16.005000000004657,2.9989999998360872 z\" /></g></g></svg>"
      ],
      "text/plain": [
       "<MULTIPOLYGON (((16.005 2.999, 18.001 8.998, 18.001 13.997, 17.003 19.996, 1...>"
      ]
     },
     "metadata": {},
     "output_type": "display_data"
    },
    {
     "name": "stdout",
     "output_type": "stream",
     "text": [
      "(array([ 0,  0,  0,  1,  1,  1,  1,  1,  1,  1,  1,  2,  2,  2,  2,  2,  2,\n",
      "        2,  2,  2,  2,  3,  3,  3,  3,  3,  3,  3,  3,  3,  3,  3,  3,  4,\n",
      "        4,  4,  4,  4,  4,  4,  4,  4,  4,  4,  4,  4,  4,  5,  5,  5,  5,\n",
      "        5,  5,  5,  5,  5,  5,  5,  5,  5,  5,  5,  6,  6,  6,  6,  6,  6,\n",
      "        6,  6,  6,  6,  6,  6,  6,  6,  6,  7,  7,  7,  7,  7,  7,  7,  7,\n",
      "        7,  7,  7,  7,  7,  7,  7,  7,  7,  8,  8,  8,  8,  8,  8,  8,  8,\n",
      "        8,  8,  8,  8,  8,  8,  8,  8,  8,  9,  9,  9,  9,  9,  9,  9,  9,\n",
      "        9,  9,  9,  9,  9,  9,  9,  9,  9,  9, 10, 10, 10, 10, 10, 10, 10,\n",
      "       10, 10, 10, 10, 10, 10, 10, 10, 10, 10, 10, 11, 11, 11, 11, 11, 11,\n",
      "       11, 11, 11, 11, 11, 11, 11, 11, 11, 11, 11, 12, 12, 12, 12, 12, 12,\n",
      "       12, 12, 12, 12, 12, 12, 12, 12, 12, 12, 12, 13, 13, 13, 13, 13, 13,\n",
      "       13, 13, 13, 13, 13, 13, 13, 13, 13, 13, 14, 14, 14, 14, 14, 14, 14,\n",
      "       14, 14, 14, 14, 14, 14, 14, 15, 15, 15, 15, 15, 15, 15, 15, 15, 15,\n",
      "       15, 15, 15, 16, 16, 16, 16, 16, 16, 16, 16, 16, 16, 16, 17, 17, 17,\n",
      "       17, 17, 17, 17, 17, 18, 18, 18, 18, 18, 18, 18, 19, 19, 19]), array([11, 12, 13,  7,  8,  9, 10, 11, 12, 13, 14,  6,  7,  8,  9, 10, 11,\n",
      "       12, 13, 14, 15,  4,  5,  6,  7,  8,  9, 10, 11, 12, 13, 14, 15,  3,\n",
      "        4,  5,  6,  7,  8,  9, 10, 11, 12, 13, 14, 15, 16,  2,  3,  4,  5,\n",
      "        6,  7,  8,  9, 10, 11, 12, 13, 14, 15, 16,  2,  3,  4,  5,  6,  7,\n",
      "        8,  9, 10, 11, 12, 13, 14, 15, 16,  1,  2,  3,  4,  5,  6,  7,  8,\n",
      "        9, 10, 11, 12, 13, 14, 15, 16, 17,  1,  2,  3,  4,  5,  6,  7,  8,\n",
      "        9, 10, 11, 12, 13, 14, 15, 16, 17,  0,  1,  2,  3,  4,  5,  6,  7,\n",
      "        8,  9, 10, 11, 12, 13, 14, 15, 16, 17,  0,  1,  2,  3,  4,  5,  6,\n",
      "        7,  8,  9, 10, 11, 12, 13, 14, 15, 16, 17,  1,  2,  3,  4,  5,  6,\n",
      "        7,  8,  9, 10, 11, 12, 13, 14, 15, 16, 17,  1,  2,  3,  4,  5,  6,\n",
      "        7,  8,  9, 10, 11, 12, 13, 14, 15, 16, 17,  2,  3,  4,  5,  6,  7,\n",
      "        8,  9, 10, 11, 12, 13, 14, 15, 16, 17,  4,  5,  6,  7,  8,  9, 10,\n",
      "       11, 12, 13, 14, 15, 16, 17,  5,  6,  7,  8,  9, 10, 11, 12, 13, 14,\n",
      "       15, 16, 17,  7,  8,  9, 10, 11, 12, 13, 14, 15, 16, 17,  9, 10, 11,\n",
      "       12, 13, 14, 15, 16, 10, 11, 12, 13, 14, 15, 16, 14, 15, 16])) [0 1]\n"
     ]
    },
    {
     "data": {
      "image/png": "[encoded data removed]",
      "text/plain": [
       "<Figure size 640x480 with 1 Axes>"
      ]
     },
     "metadata": {},
     "output_type": "display_data"
    },
    {
     "name": "stderr",
     "output_type": "stream",
     "text": [
      "1it [00:00,  7.79it/s]"
     ]
    },
    {
     "data": {
      "image/svg+xml": [
       "<svg xmlns=\"http://www.w3.org/2000/svg\" xmlns:xlink=\"http://www.w3.org/1999/xlink\" width=\"100.0\" height=\"100.0\" viewBox=\"668610.1128 6193530.7378 24.964399999938905 38.23739999998361\" preserveAspectRatio=\"xMinYMin meet\"><g transform=\"matrix(1,0,0,-1,0,12387099.713)\"><g><path fill-rule=\"evenodd\" fill=\"#66cc99\" stroke=\"#555555\" stroke-width=\"0.7647479999996721\" opacity=\"0.6\" d=\"M 668633.44,6193548.257 L 668633.661,6193554.654 L 668633.22,6193558.404 L 668631.823,6193561.713 L 668629.911,6193564.139 L 668627.631,6193566.345 L 668626.308,6193567.448 L 668624.764,6193567.559 L 668623.22,6193566.714 L 668621.014,6193565.17 L 668617.779,6193564.214 L 668614.544,6193563.405 L 668612.558,6193561.935 L 668611.823,6193560.096 L 668611.676,6193557.595 L 668611.529,6193548.699 L 668612.044,6193540.832 L 668612.631,6193537.448 L 668614.47,6193534.728 L 668616.896,6193532.816 L 668619.028,6193532.228 L 668621.308,6193532.154 L 668624.617,6193532.742 L 668627.631,6193533.625 L 668629.837,6193535.536 L 668631.675,6193538.992 L 668632.631,6193542.081 L 668633.44,6193548.257 z\" /></g></g></svg>"
      ],
      "text/plain": [
       "<MULTIPOLYGON (((668633.44 6193548.257, 668633.661 6193554.654, 668633.22 61...>"
      ]
     },
     "metadata": {},
     "output_type": "display_data"
    },
    {
     "data": {
      "image/svg+xml": [
       "<svg xmlns=\"http://www.w3.org/2000/svg\" xmlns:xlink=\"http://www.w3.org/1999/xlink\" width=\"100.0\" height=\"100.0\" viewBox=\"-1.416200000010431 -1.416200000010431 24.964400000004098 38.23740000028164\" preserveAspectRatio=\"xMinYMin meet\"><g transform=\"matrix(1,0,0,-1,0,35.40500000026077)\"><g><path fill-rule=\"evenodd\" fill=\"#66cc99\" stroke=\"#555555\" stroke-width=\"0.7647480000056328\" opacity=\"0.6\" d=\"M 21.91099999996368,16.10300000011921 L 22.131999999983236,22.5 L 21.690999999991618,26.25 L 20.293999999994412,29.559000000357628 L 18.381999999983236,31.985000000335276 L 16.102000000071712,34.19099999964237 L 14.778999999980442,35.29399999976158 L 13.23499999998603,35.40500000026077 L 11.690999999991618,34.55999999959022 L 9.48499999998603,33.01599999982864 L 6.25,32.05999999959022 L 3.01500000001397,31.251000000163913 L 1.0289999999804422,29.78099999949336 L 0.29399999999441206,27.941999999806285 L 0.14699999999720603,25.440999999642372 L 0.0,16.544999999925494 L 0.5150000000139698,8.678000000305474 L 1.1020000000717118,5.293999999761581 L 2.940999999991618,2.5740000000223517 L 5.366999999969266,0.6619999995455146 L 7.499000000068918,0.07400000002235174 L 9.778999999980442,0.0 L 13.087999999988824,0.5879999995231628 L 16.102000000071712,1.4709999999031425 L 18.3080000000773,3.382000000216067 L 20.146000000066124,6.837999999523163 L 21.102000000071712,9.927000000141561 L 21.91099999996368,16.10300000011921 z\" /></g></g></svg>"
      ],
      "text/plain": [
       "<MULTIPOLYGON (((21.911 16.103, 22.132 22.5, 21.691 26.25, 20.294 29.559, 18...>"
      ]
     },
     "metadata": {},
     "output_type": "display_data"
    },
    {
     "name": "stderr",
     "output_type": "stream",
     "text": [
      "1it [00:00,  7.29it/s]"
     ]
    },
    {
     "name": "stdout",
     "output_type": "stream",
     "text": [
      "(array([ 0,  0,  0,  0,  0,  0,  0,  1,  1,  1,  1,  1,  1,  1,  1,  1,  1,\n",
      "        1,  1,  2,  2,  2,  2,  2,  2,  2,  2,  2,  2,  2,  2,  2,  2,  3,\n",
      "        3,  3,  3,  3,  3,  3,  3,  3,  3,  3,  3,  3,  3,  3,  3,  4,  4,\n",
      "        4,  4,  4,  4,  4,  4,  4,  4,  4,  4,  4,  4,  4,  4,  4,  5,  5,\n",
      "        5,  5,  5,  5,  5,  5,  5,  5,  5,  5,  5,  5,  5,  5,  5,  5,  6,\n",
      "        6,  6,  6,  6,  6,  6,  6,  6,  6,  6,  6,  6,  6,  6,  6,  6,  6,\n",
      "        6,  7,  7,  7,  7,  7,  7,  7,  7,  7,  7,  7,  7,  7,  7,  7,  7,\n",
      "        7,  7,  7,  8,  8,  8,  8,  8,  8,  8,  8,  8,  8,  8,  8,  8,  8,\n",
      "        8,  8,  8,  8,  8,  8,  9,  9,  9,  9,  9,  9,  9,  9,  9,  9,  9,\n",
      "        9,  9,  9,  9,  9,  9,  9,  9,  9,  9, 10, 10, 10, 10, 10, 10, 10,\n",
      "       10, 10, 10, 10, 10, 10, 10, 10, 10, 10, 10, 10, 10, 10, 11, 11, 11,\n",
      "       11, 11, 11, 11, 11, 11, 11, 11, 11, 11, 11, 11, 11, 11, 11, 11, 11,\n",
      "       11, 12, 12, 12, 12, 12, 12, 12, 12, 12, 12, 12, 12, 12, 12, 12, 12,\n",
      "       12, 12, 12, 12, 12, 13, 13, 13, 13, 13, 13, 13, 13, 13, 13, 13, 13,\n",
      "       13, 13, 13, 13, 13, 13, 13, 13, 13, 13, 14, 14, 14, 14, 14, 14, 14,\n",
      "       14, 14, 14, 14, 14, 14, 14, 14, 14, 14, 14, 14, 14, 14, 14, 15, 15,\n",
      "       15, 15, 15, 15, 15, 15, 15, 15, 15, 15, 15, 15, 15, 15, 15, 15, 15,\n",
      "       15, 15, 15, 16, 16, 16, 16, 16, 16, 16, 16, 16, 16, 16, 16, 16, 16,\n",
      "       16, 16, 16, 16, 16, 16, 16, 16, 17, 17, 17, 17, 17, 17, 17, 17, 17,\n",
      "       17, 17, 17, 17, 17, 17, 17, 17, 17, 17, 17, 17, 17, 18, 18, 18, 18,\n",
      "       18, 18, 18, 18, 18, 18, 18, 18, 18, 18, 18, 18, 18, 18, 18, 18, 18,\n",
      "       18, 19, 19, 19, 19, 19, 19, 19, 19, 19, 19, 19, 19, 19, 19, 19, 19,\n",
      "       19, 19, 19, 19, 19, 19, 20, 20, 20, 20, 20, 20, 20, 20, 20, 20, 20,\n",
      "       20, 20, 20, 20, 20, 20, 20, 20, 20, 20, 20, 21, 21, 21, 21, 21, 21,\n",
      "       21, 21, 21, 21, 21, 21, 21, 21, 21, 21, 21, 21, 21, 21, 21, 21, 22,\n",
      "       22, 22, 22, 22, 22, 22, 22, 22, 22, 22, 22, 22, 22, 22, 22, 22, 22,\n",
      "       22, 22, 22, 22, 23, 23, 23, 23, 23, 23, 23, 23, 23, 23, 23, 23, 23,\n",
      "       23, 23, 23, 23, 23, 23, 23, 23, 23, 24, 24, 24, 24, 24, 24, 24, 24,\n",
      "       24, 24, 24, 24, 24, 24, 24, 24, 24, 24, 24, 24, 24, 24, 25, 25, 25,\n",
      "       25, 25, 25, 25, 25, 25, 25, 25, 25, 25, 25, 25, 25, 25, 25, 25, 25,\n",
      "       25, 25, 26, 26, 26, 26, 26, 26, 26, 26, 26, 26, 26, 26, 26, 26, 26,\n",
      "       26, 26, 26, 26, 26, 26, 26, 27, 27, 27, 27, 27, 27, 27, 27, 27, 27,\n",
      "       27, 27, 27, 27, 27, 27, 27, 27, 27, 27, 27, 28, 28, 28, 28, 28, 28,\n",
      "       28, 28, 28, 28, 28, 28, 28, 28, 28, 28, 28, 28, 28, 28, 29, 29, 29,\n",
      "       29, 29, 29, 29, 29, 29, 29, 29, 29, 29, 29, 29, 29, 29, 29, 29, 30,\n",
      "       30, 30, 30, 30, 30, 30, 30, 30, 30, 30, 30, 30, 30, 30, 30, 30, 30,\n",
      "       31, 31, 31, 31, 31, 31, 31, 31, 31, 31, 31, 31, 31, 31, 31, 32, 32,\n",
      "       32, 32, 32, 32, 32, 32, 32, 32, 33, 33, 33, 33, 33, 33, 33, 34, 34,\n",
      "       34, 34]), array([ 6,  7,  8,  9, 10, 11, 12,  4,  5,  6,  7,  8,  9, 10, 11, 12, 13,\n",
      "       14, 15,  3,  4,  5,  6,  7,  8,  9, 10, 11, 12, 13, 14, 15, 16,  2,\n",
      "        3,  4,  5,  6,  7,  8,  9, 10, 11, 12, 13, 14, 15, 16, 17,  2,  3,\n",
      "        4,  5,  6,  7,  8,  9, 10, 11, 12, 13, 14, 15, 16, 17, 18,  1,  2,\n",
      "        3,  4,  5,  6,  7,  8,  9, 10, 11, 12, 13, 14, 15, 16, 17, 18,  1,\n",
      "        2,  3,  4,  5,  6,  7,  8,  9, 10, 11, 12, 13, 14, 15, 16, 17, 18,\n",
      "       19,  1,  2,  3,  4,  5,  6,  7,  8,  9, 10, 11, 12, 13, 14, 15, 16,\n",
      "       17, 18, 19,  1,  2,  3,  4,  5,  6,  7,  8,  9, 10, 11, 12, 13, 14,\n",
      "       15, 16, 17, 18, 19, 20,  0,  1,  2,  3,  4,  5,  6,  7,  8,  9, 10,\n",
      "       11, 12, 13, 14, 15, 16, 17, 18, 19, 20,  0,  1,  2,  3,  4,  5,  6,\n",
      "        7,  8,  9, 10, 11, 12, 13, 14, 15, 16, 17, 18, 19, 20,  0,  1,  2,\n",
      "        3,  4,  5,  6,  7,  8,  9, 10, 11, 12, 13, 14, 15, 16, 17, 18, 19,\n",
      "       20,  0,  1,  2,  3,  4,  5,  6,  7,  8,  9, 10, 11, 12, 13, 14, 15,\n",
      "       16, 17, 18, 19, 20,  0,  1,  2,  3,  4,  5,  6,  7,  8,  9, 10, 11,\n",
      "       12, 13, 14, 15, 16, 17, 18, 19, 20, 21,  0,  1,  2,  3,  4,  5,  6,\n",
      "        7,  8,  9, 10, 11, 12, 13, 14, 15, 16, 17, 18, 19, 20, 21,  0,  1,\n",
      "        2,  3,  4,  5,  6,  7,  8,  9, 10, 11, 12, 13, 14, 15, 16, 17, 18,\n",
      "       19, 20, 21,  0,  1,  2,  3,  4,  5,  6,  7,  8,  9, 10, 11, 12, 13,\n",
      "       14, 15, 16, 17, 18, 19, 20, 21,  0,  1,  2,  3,  4,  5,  6,  7,  8,\n",
      "        9, 10, 11, 12, 13, 14, 15, 16, 17, 18, 19, 20, 21,  0,  1,  2,  3,\n",
      "        4,  5,  6,  7,  8,  9, 10, 11, 12, 13, 14, 15, 16, 17, 18, 19, 20,\n",
      "       21,  0,  1,  2,  3,  4,  5,  6,  7,  8,  9, 10, 11, 12, 13, 14, 15,\n",
      "       16, 17, 18, 19, 20, 21,  0,  1,  2,  3,  4,  5,  6,  7,  8,  9, 10,\n",
      "       11, 12, 13, 14, 15, 16, 17, 18, 19, 20, 21,  0,  1,  2,  3,  4,  5,\n",
      "        6,  7,  8,  9, 10, 11, 12, 13, 14, 15, 16, 17, 18, 19, 20, 21,  0,\n",
      "        1,  2,  3,  4,  5,  6,  7,  8,  9, 10, 11, 12, 13, 14, 15, 16, 17,\n",
      "       18, 19, 20, 21,  0,  1,  2,  3,  4,  5,  6,  7,  8,  9, 10, 11, 12,\n",
      "       13, 14, 15, 16, 17, 18, 19, 20, 21,  0,  1,  2,  3,  4,  5,  6,  7,\n",
      "        8,  9, 10, 11, 12, 13, 14, 15, 16, 17, 18, 19, 20, 21,  0,  1,  2,\n",
      "        3,  4,  5,  6,  7,  8,  9, 10, 11, 12, 13, 14, 15, 16, 17, 18, 19,\n",
      "       20, 21,  0,  1,  2,  3,  4,  5,  6,  7,  8,  9, 10, 11, 12, 13, 14,\n",
      "       15, 16, 17, 18, 19, 20, 21,  0,  1,  2,  3,  4,  5,  6,  7,  8,  9,\n",
      "       10, 11, 12, 13, 14, 15, 16, 17, 18, 19, 20,  1,  2,  3,  4,  5,  6,\n",
      "        7,  8,  9, 10, 11, 12, 13, 14, 15, 16, 17, 18, 19, 20,  1,  2,  3,\n",
      "        4,  5,  6,  7,  8,  9, 10, 11, 12, 13, 14, 15, 16, 17, 18, 19,  2,\n",
      "        3,  4,  5,  6,  7,  8,  9, 10, 11, 12, 13, 14, 15, 16, 17, 18, 19,\n",
      "        4,  5,  6,  7,  8,  9, 10, 11, 12, 13, 14, 15, 16, 17, 18,  8,  9,\n",
      "       10, 11, 12, 13, 14, 15, 16, 17, 10, 11, 12, 13, 14, 15, 16, 12, 13,\n",
      "       14, 15])) [0 1]\n"
     ]
    },
    {
     "name": "stderr",
     "output_type": "stream",
     "text": [
      "\n"
     ]
    }
   ],
   "source": [
    "import rasterio.features\n",
    "import numpy as np\n",
    "from shapely.geometry import MultiPolygon\n",
    "import shapely\n",
    "import matplotlib.pyplot as plt\n",
    "for i, feature in tqdm(enumerate(gj_features)):\n",
    "    geometry = feature['geometry']\n",
    "    coords = geometry['coordinates']\n",
    "    # if geometry['type'] != 'MultiPolygon':\n",
    "    #     print(f'NOT A MULTIPOLYGON!!! Idx {i}')\n",
    "    # print(len(coords))\n",
    "    # print(coords)\n",
    "    # coords_np = np.squeeze(np.array(coords))\n",
    "    poly = MultiPolygon(coords)\n",
    "    display(poly)\n",
    "    min_x, min_y, max_x, max_y = poly.bounds # min x, min y, max x, max y\n",
    "    x, y = max_x - min_x, max_y - min_y\n",
    "    poly = shapely.transform(poly, lambda c: c - [min_x, min_y])\n",
    "    mask = rasterio.features.rasterize([poly], out_shape=(round(x*2), round(y*2)))\n",
    "    display(poly)\n",
    "    print(np.where(mask != 0), np.unique(mask))\n",
    "    if i == 1:\n",
    "        break\n",
    "    plt.imshow(mask)\n",
    "    plt.show()\n",
    "# example = gj_features[0]['geometry']\n",
    "# print(example)"
   ]
  },
  {
   "cell_type": "code",
   "execution_count": 9,
   "id": "d5104718-59b3-4eef-947f-7fc51dc6d9cf",
   "metadata": {},
   "outputs": [
    {
     "data": {
      "image/svg+xml": [
       "<svg xmlns=\"http://www.w3.org/2000/svg\" xmlns:xlink=\"http://www.w3.org/1999/xlink\" width=\"100.0\" height=\"100.0\" viewBox=\"693856.065348 6132880.242048 8.612503999960609 17.203104000538588\" preserveAspectRatio=\"xMinYMin meet\"><g transform=\"matrix(1,0,0,-1,0,12265777.6872)\"><g><path fill-rule=\"evenodd\" fill=\"#66cc99\" stroke=\"#555555\" stroke-width=\"0.34406208001077176\" opacity=\"0.6\" d=\"M 693859.6558,6132882.0424 L 693861.5351,6132886.5167 L 693863.8616,6132892.6915 L 693864.0407,6132896.808 L 693858.045,6132896.629 L 693857.0606,6132895.5552 L 693856.7025,6132883.2057 L 693857.2396,6132880.8792 L 693859.6558,6132882.0424 z\" /></g></g></svg>"
      ],
      "text/plain": [
       "<MULTIPOLYGON (((693859.656 6132882.042, 693861.535 6132886.517, 693863.862 ...>"
      ]
     },
     "execution_count": 9,
     "metadata": {},
     "output_type": "execute_result"
    }
   ],
   "source": [
    "poly"
   ]
  },
  {
   "cell_type": "code",
   "execution_count": null,
   "id": "0808cdee-2a2c-44ff-a37c-288b14a47bc8",
   "metadata": {},
   "outputs": [],
   "source": [
    "dir(poly)"
   ]
  },
  {
   "cell_type": "code",
   "execution_count": 13,
   "id": "449a72b0-870c-46d8-a748-6976c291bf6f",
   "metadata": {},
   "outputs": [
    {
     "data": {
      "text/plain": [
       "((array([], dtype=int64), array([], dtype=int64)), array([0], dtype=uint8))"
      ]
     },
     "execution_count": 13,
     "metadata": {},
     "output_type": "execute_result"
    }
   ],
   "source": [
    "mask = rasterio.features.rasterize([poly], out_shape=(1000,1000))\n",
    "np.where(mask!=0), np.unique(mask)"
   ]
  },
  {
   "cell_type": "code",
   "execution_count": 21,
   "id": "0f249a3e-2ca9-403e-a417-f64579902e86",
   "metadata": {},
   "outputs": [
    {
     "data": {
      "text/plain": [
       "((array([], dtype=int64), array([], dtype=int64)), array([0], dtype=uint8))"
      ]
     },
     "execution_count": 21,
     "metadata": {},
     "output_type": "execute_result"
    }
   ],
   "source": [
    "lst = []\n",
    "if poly.geom_type == 'MultiPolygon':\n",
    "   # extract polygons out of multipolygon\n",
    "   for polygon in poly.geoms:\n",
    "       lst.append(polygon)\n",
    "mask = rasterio.features.rasterize([polygon], out_shape=(5,5))\n",
    "np.where(mask!=0), np.unique(mask)"
   ]
  },
  {
   "cell_type": "code",
   "execution_count": 22,
   "id": "1eee6542-e464-46a5-bf54-4a17fd898644",
   "metadata": {},
   "outputs": [
    {
     "name": "stdout",
     "output_type": "stream",
     "text": [
      "POLYGON ((693859.6558 6132882.0424, 693861.5351 6132886.5167, 693863.8616 6132892.6915, 693864.0407 6132896.808, 693858.045 6132896.629, 693857.0606 6132895.5552, 693856.7025 6132883.2057, 693857.2396 6132880.8792, 693859.6558 6132882.0424))\n"
     ]
    }
   ],
   "source": [
    "print(polygon)"
   ]
  },
  {
   "cell_type": "code",
   "execution_count": 29,
   "id": "887c0d58-5769-4291-9379-c2e49f7334e2",
   "metadata": {},
   "outputs": [
    {
     "data": {
      "text/plain": [
       "(array('d', [693859.6558, 693861.5351, 693863.8616, 693864.0407, 693858.045, 693857.0606, 693856.7025, 693857.2396, 693859.6558]),\n",
       " array('d', [6132882.0424, 6132886.5167, 6132892.6915, 6132896.808, 6132896.629, 6132895.5552, 6132883.2057, 6132880.8792, 6132882.0424]))"
      ]
     },
     "execution_count": 29,
     "metadata": {},
     "output_type": "execute_result"
    }
   ],
   "source": [
    "xx, yy = polygon.exterior.coords.xy\n",
    "\n",
    "xx, yy"
   ]
  },
  {
   "cell_type": "code",
   "execution_count": 48,
   "id": "e90796df-f2db-43d8-bc32-42c0d9885f24",
   "metadata": {},
   "outputs": [
    {
     "name": "stdout",
     "output_type": "stream",
     "text": [
      "POLYGON ((59.65579999994952 82.04239999968559, 61.53509999997914 86.51669999957085, 63.86159999994561 92.69149999972433, 64.0407000000123 96.80800000019372, 58.04500000004191 96.62899999972433, 57.06059999996796 95.55520000029355, 56.70250000001397 83.20569999981672, 57.23959999997169 80.8792000003159, 59.65579999994952 82.04239999968559))\n"
     ]
    },
    {
     "data": {
      "image/svg+xml": [
       "<svg xmlns=\"http://www.w3.org/2000/svg\" xmlns:xlink=\"http://www.w3.org/1999/xlink\" width=\"100.0\" height=\"100.0\" viewBox=\"56.06534800001886 80.24204800032079 8.612503999988547 17.203103999868034\" preserveAspectRatio=\"xMinYMin meet\"><g transform=\"matrix(1,0,0,-1,0,177.68720000050962)\"><path fill-rule=\"evenodd\" fill=\"#66cc99\" stroke=\"#555555\" stroke-width=\"0.34406207999736066\" opacity=\"0.6\" d=\"M 59.65579999994952,82.04239999968559 L 61.53509999997914,86.51669999957085 L 63.86159999994561,92.69149999972433 L 64.0407000000123,96.80800000019372 L 58.04500000004191,96.62899999972433 L 57.06059999996796,95.55520000029355 L 56.70250000001397,83.20569999981672 L 57.23959999997169,80.8792000003159 L 59.65579999994952,82.04239999968559 z\" /></g></svg>"
      ],
      "text/plain": [
       "<POLYGON ((59.656 82.042, 61.535 86.517, 63.862 92.691, 64.041 96.808, 58.04...>"
      ]
     },
     "execution_count": 48,
     "metadata": {},
     "output_type": "execute_result"
    }
   ],
   "source": [
    "import shapely\n",
    "polygon_2 = shapely.transform(polygon, lambda x: x - [693800,6132800])\n",
    "print(polygon_2)\n",
    "mask = rasterio.features.rasterize([polygon_2], out_shape=(100,100))\n",
    "np.where(mask!=0), np.unique(mask)\n",
    "polygon_2"
   ]
  },
  {
   "cell_type": "code",
   "execution_count": 72,
   "id": "153de3f9-8180-4921-9815-1755602701e6",
   "metadata": {},
   "outputs": [
    {
     "data": {
      "text/plain": [
       "(7.338199999998324, 15.92879999987781)"
      ]
     },
     "execution_count": 72,
     "metadata": {},
     "output_type": "execute_result"
    }
   ],
   "source": [
    "b = poly.bounds # min x, min y, max x, max y\n",
    "x, y = b[2] - b[0], b[-1] - b[1]"
   ]
  },
  {
   "cell_type": "code",
   "execution_count": 66,
   "id": "9d9c330a-3293-4bdb-9773-143d688d4f1d",
   "metadata": {},
   "outputs": [
    {
     "data": {
      "text/plain": [
       "['__and__',\n",
       " '__bool__',\n",
       " '__class__',\n",
       " '__delattr__',\n",
       " '__dir__',\n",
       " '__doc__',\n",
       " '__eq__',\n",
       " '__format__',\n",
       " '__ge__',\n",
       " '__geo_interface__',\n",
       " '__getattribute__',\n",
       " '__gt__',\n",
       " '__hash__',\n",
       " '__init__',\n",
       " '__init_subclass__',\n",
       " '__le__',\n",
       " '__lt__',\n",
       " '__module__',\n",
       " '__ne__',\n",
       " '__new__',\n",
       " '__nonzero__',\n",
       " '__or__',\n",
       " '__reduce__',\n",
       " '__reduce_ex__',\n",
       " '__repr__',\n",
       " '__setattr__',\n",
       " '__setstate__',\n",
       " '__sizeof__',\n",
       " '__slots__',\n",
       " '__str__',\n",
       " '__sub__',\n",
       " '__subclasshook__',\n",
       " '__xor__',\n",
       " '_geom',\n",
       " '_geom_prepared',\n",
       " '_ndim',\n",
       " '_repr_svg_',\n",
       " 'almost_equals',\n",
       " 'area',\n",
       " 'boundary',\n",
       " 'bounds',\n",
       " 'buffer',\n",
       " 'centroid',\n",
       " 'contains',\n",
       " 'contains_properly',\n",
       " 'convex_hull',\n",
       " 'coords',\n",
       " 'covered_by',\n",
       " 'covers',\n",
       " 'crosses',\n",
       " 'difference',\n",
       " 'disjoint',\n",
       " 'distance',\n",
       " 'dwithin',\n",
       " 'envelope',\n",
       " 'equals',\n",
       " 'equals_exact',\n",
       " 'geom_type',\n",
       " 'geometryType',\n",
       " 'geoms',\n",
       " 'has_z',\n",
       " 'hausdorff_distance',\n",
       " 'interpolate',\n",
       " 'intersection',\n",
       " 'intersects',\n",
       " 'is_closed',\n",
       " 'is_empty',\n",
       " 'is_ring',\n",
       " 'is_simple',\n",
       " 'is_valid',\n",
       " 'length',\n",
       " 'line_interpolate_point',\n",
       " 'line_locate_point',\n",
       " 'minimum_clearance',\n",
       " 'minimum_rotated_rectangle',\n",
       " 'normalize',\n",
       " 'oriented_envelope',\n",
       " 'overlaps',\n",
       " 'point_on_surface',\n",
       " 'project',\n",
       " 'relate',\n",
       " 'relate_pattern',\n",
       " 'representative_point',\n",
       " 'reverse',\n",
       " 'segmentize',\n",
       " 'simplify',\n",
       " 'svg',\n",
       " 'symmetric_difference',\n",
       " 'touches',\n",
       " 'type',\n",
       " 'union',\n",
       " 'within',\n",
       " 'wkb',\n",
       " 'wkb_hex',\n",
       " 'wkt',\n",
       " 'xy']"
      ]
     },
     "execution_count": 66,
     "metadata": {},
     "output_type": "execute_result"
    }
   ],
   "source": [
    "dir(poly)"
   ]
  },
  {
   "cell_type": "code",
   "execution_count": 34,
   "id": "ad628931-5b6a-4579-99c8-beb302726705",
   "metadata": {},
   "outputs": [
    {
     "name": "stdout",
     "output_type": "stream",
     "text": [
      "[[[[501332.248, 6224773.935], [501334.244, 6224779.934], [501334.244, 6224784.933], [501333.246, 6224790.932], [501327.243, 6224789.932], [501317.249, 6224783.933], [501316.243, 6224780.934], [501319.244, 6224774.935], [501324.25, 6224771.936], [501329.247, 6224770.936], [501332.248, 6224773.935]]]]\n"
     ]
    }
   ],
   "source": [
    "\n",
    "\n",
    "coords = example['coordinates']\n",
    "print(coords)"
   ]
  },
  {
   "cell_type": "code",
   "execution_count": 45,
   "id": "ec224e0e-a2fd-4f1d-b2f2-8d236ebcda78",
   "metadata": {},
   "outputs": [
    {
     "data": {
      "text/plain": [
       "((11, 2),\n",
       " array([[ 501332.248, 6224773.935],\n",
       "        [ 501334.244, 6224779.934],\n",
       "        [ 501334.244, 6224784.933],\n",
       "        [ 501333.246, 6224790.932],\n",
       "        [ 501327.243, 6224789.932],\n",
       "        [ 501317.249, 6224783.933],\n",
       "        [ 501316.243, 6224780.934],\n",
       "        [ 501319.244, 6224774.935],\n",
       "        [ 501324.25 , 6224771.936],\n",
       "        [ 501329.247, 6224770.936],\n",
       "        [ 501332.248, 6224773.935]]))"
      ]
     },
     "execution_count": 45,
     "metadata": {},
     "output_type": "execute_result"
    }
   ],
   "source": [
    "\n",
    "coords_np = np.array(coords[0][0])\n",
    "coords_np.shape, coords_np"
   ]
  },
  {
   "cell_type": "code",
   "execution_count": 48,
   "id": "d9008ea9-9585-4385-ad7e-631501bec9c3",
   "metadata": {},
   "outputs": [],
   "source": [
    "\n",
    "poly = Polygon(coords[0][0])"
   ]
  },
  {
   "cell_type": "code",
   "execution_count": 49,
   "id": "8c70756b-036f-4f16-93d7-30f92b95a084",
   "metadata": {},
   "outputs": [
    {
     "data": {
      "text/plain": [
       "array([[0, 0, 0, ..., 0, 0, 0],\n",
       "       [0, 0, 0, ..., 0, 0, 0],\n",
       "       [0, 0, 0, ..., 0, 0, 0],\n",
       "       ...,\n",
       "       [0, 0, 0, ..., 0, 0, 0],\n",
       "       [0, 0, 0, ..., 0, 0, 0],\n",
       "       [0, 0, 0, ..., 0, 0, 0]], dtype=uint8)"
      ]
     },
     "execution_count": 49,
     "metadata": {},
     "output_type": "execute_result"
    }
   ],
   "source": [
    "rasterio.features.rasterize([poly], out_shape=(60, 50))"
   ]
  },
  {
   "cell_type": "code",
   "execution_count": null,
   "id": "3201fd15-4d4a-4102-a180-ceda79bf39fa",
   "metadata": {},
   "outputs": [],
   "source": [
    "from shapely.geometry import Polygon\n",
    "import rasterio.features\n",
    "import matplotlib.pyplot as plt\n",
    "\n",
    "poly = Polygon([(0, 50), (10, 10), (30, 0), (45, 45), (0, 50)])\n",
    "img = rasterio.features.rasterize([poly], out_shape=(60, 50))\n",
    "plt.imshow(img)"
   ]
  }
 ],
 "metadata": {
  "kernelspec": {
   "display_name": "Python 3 (ipykernel)",
   "language": "python",
   "name": "python3"
  },
  "language_info": {
   "codemirror_mode": {
    "name": "ipython",
    "version": 3
   },
   "file_extension": ".py",
   "mimetype": "text/x-python",
   "name": "python",
   "nbconvert_exporter": "python",
   "pygments_lexer": "ipython3",
   "version": "3.10.12"
  }
 },
 "nbformat": 4,
 "nbformat_minor": 5
}
