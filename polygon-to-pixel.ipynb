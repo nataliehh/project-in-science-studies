{
 "cells": [
  {
   "cell_type": "code",
   "execution_count": 1,
   "id": "44a7a49c-a8e6-443a-aeb4-11d3dd742faa",
   "metadata": {},
   "outputs": [],
   "source": [
    "import geojson\n",
    "from tqdm import tqdm\n",
    "import rasterio.features\n",
    "import numpy as np\n",
    "from shapely.geometry import MultiPolygon\n",
    "import shapely\n",
    "import matplotlib.pyplot as plt\n",
    "import rasterio"
   ]
  },
  {
   "cell_type": "code",
   "execution_count": 2,
   "id": "5cc421ae-f908-4fe5-b809-965778b83bf6",
   "metadata": {},
   "outputs": [
    {
     "name": "stdout",
     "output_type": "stream",
     "text": [
      "312325 dict_keys(['type', 'name', 'crs', 'features'])\n",
      "CPU times: user 1min 1s, sys: 3.09 s, total: 1min 5s\n",
      "Wall time: 1min 5s\n"
     ]
    }
   ],
   "source": [
    "%%time\n",
    "path_to_file = './naturtyper_layer.geojson'\n",
    "\n",
    "with open(path_to_file, 'r') as f:\n",
    "    gj = geojson.load(f)\n",
    "print(len(gj['features']), gj.keys())"
   ]
  },
  {
   "cell_type": "code",
   "execution_count": 3,
   "id": "192a10c8-10e7-4d4e-8035-f184a15abdc0",
   "metadata": {},
   "outputs": [
    {
     "name": "stdout",
     "output_type": "stream",
     "text": [
      "(135000, 85000)\n",
      "EPSG:25832\n"
     ]
    }
   ],
   "source": [
    "path = './ortodata_2014_res_2_crop.tif'\n",
    "# Open the tif file \n",
    "tif_file = rasterio.open(path)\n",
    "print(tif_file.shape)\n",
    "print(tif_file.crs)"
   ]
  },
  {
   "cell_type": "code",
   "execution_count": 4,
   "id": "56e50c1e-5083-4398-8d4d-563ffa77c075",
   "metadata": {},
   "outputs": [
    {
     "name": "stderr",
     "output_type": "stream",
     "text": [
      "100%|██████████████████████████████████████████████████████████████████████| 312325/312325 [00:00<00:00, 1007806.35it/s]"
     ]
    },
    {
     "name": "stdout",
     "output_type": "stream",
     "text": [
      "152920\n"
     ]
    },
    {
     "name": "stderr",
     "output_type": "stream",
     "text": [
      "\n"
     ]
    },
    {
     "data": {
      "text/plain": [
       "{\"geometry\": {\"coordinates\": [[[[501332.248, 6224773.935], [501334.244, 6224779.934], [501334.244, 6224784.933], [501333.246, 6224790.932], [501327.243, 6224789.932], [501317.249, 6224783.933], [501316.243, 6224780.934], [501319.244, 6224774.935], [501324.25, 6224771.936], [501329.247, 6224770.936], [501332.248, 6224773.935]]]], \"type\": \"MultiPolygon\"}, \"properties\": {\"Aendr_kode\": 0, \"Aendrbegr\": \"Ikke udfyldt\", \"Besig_dato\": null, \"Bruger_id\": \"00000000-0000-0000-0000-000000000000\", \"CVR_kode\": 29189919, \"CVR_navn\": \"Herning kommune\", \"Gl_sys_ref\": null, \"Journalnr\": null, \"Link\": null, \"Natyp_kode\": 6, \"Natyp_navn\": \"Sø\", \"Objekt_id\": \"0460cd7c-5353-11e2-af2b-00155d01e765\", \"Off_kode\": 1, \"Offentlig\": \"Synlig for alle\", \"Oprettet\": \"2006-12-31T01:00:00\", \"Oprindelse\": \"Ikke udfyldt\", \"Oprindkode\": 0, \"Sagsbeh\": null, \"Shape_area\": 252.94599999301087, \"Shape_length\": 0.0, \"Status\": \"Gældende / Vedtaget\", \"Statuskode\": 3, \"Systid_fra\": \"2006-12-31T01:00:00\", \"Systid_til\": null, \"Temakode\": 2013, \"Temanavn\": \"Beskyttede naturtyper\", \"Vedligehold_status\": null, \"Vedligehold_tid\": null, \"Version_id\": \"00007d2d-6222-4244-a5ae-f864f263240e\"}, \"type\": \"Feature\"}"
      ]
     },
     "execution_count": 4,
     "metadata": {},
     "output_type": "execute_result"
    }
   ],
   "source": [
    "gj_features = []\n",
    "for feature in tqdm(gj['features']):\n",
    "    if feature['properties']['Natyp_kode'] == 6: # Code for lakes is 6\n",
    "        gj_features.append(feature)\n",
    "print(len(gj_features))\n",
    "gj_features[0]"
   ]
  },
  {
   "cell_type": "code",
   "execution_count": 5,
   "id": "208f569e-6604-41d0-8f9d-8662e4b7fdd8",
   "metadata": {},
   "outputs": [
    {
     "name": "stderr",
     "output_type": "stream",
     "text": [
      "0it [00:00, ?it/s]"
     ]
    },
    {
     "data": {
      "image/svg+xml": [
       "<svg xmlns=\"http://www.w3.org/2000/svg\" xmlns:xlink=\"http://www.w3.org/1999/xlink\" width=\"100.0\" height=\"100.0\" viewBox=\"-0.8 -0.8 19.6 21.6\" preserveAspectRatio=\"xMinYMin meet\"><g transform=\"matrix(1,0,0,-1,0,20.0)\"><g><path fill-rule=\"evenodd\" fill=\"#66cc99\" stroke=\"#555555\" stroke-width=\"0.43200000000000005\" opacity=\"0.6\" d=\"M 16.0,3.0 L 18.0,9.0 L 18.0,14.0 L 17.0,20.0 L 11.0,19.0 L 1.0,13.0 L 0.0,10.0 L 3.0,4.0 L 8.0,1.0 L 13.0,0.0 L 16.0,3.0 z\" /></g></g></svg>"
      ],
      "text/plain": [
       "<MULTIPOLYGON (((16 3, 18 9, 18 14, 17 20, 11 19, 1 13, 0 10, 3 4, 8 1, 13 0...>"
      ]
     },
     "metadata": {},
     "output_type": "display_data"
    },
    {
     "name": "stdout",
     "output_type": "stream",
     "text": [
      "mask shape: (10, 9)\n"
     ]
    },
    {
     "data": {
      "image/png": "[encoded data removed]",
      "text/plain": [
       "<Figure size 640x480 with 1 Axes>"
      ]
     },
     "metadata": {},
     "output_type": "display_data"
    },
    {
     "name": "stderr",
     "output_type": "stream",
     "text": [
      "152920it [02:08, 1185.85it/s]"
     ]
    },
    {
     "name": "stdout",
     "output_type": "stream",
     "text": [
      "Failed to convert 3925 annotations\n"
     ]
    },
    {
     "name": "stderr",
     "output_type": "stream",
     "text": [
      "\n"
     ]
    }
   ],
   "source": [
    "dataset = []\n",
    "failed = 0\n",
    "\n",
    "# Loop over the annotations\n",
    "for i, feature in tqdm(enumerate(gj_features)):\n",
    "    geometry = feature['geometry']\n",
    "    coords = geometry['coordinates']\n",
    "    coords_np = np.array(coords[0][0])\n",
    "\n",
    "    try:\n",
    "        poly = MultiPolygon(coords)\n",
    "        # min_x, min_y, max_x, max_y = [np.round(c) for c in poly.bounds] # min x, min y, max x, max y\n",
    "        # x, y = max_x - min_x, max_y - min_y # get width and height\n",
    "    \n",
    "        # Get the coordinates of the lake in the form [(x1, y1), (x2, y2), ...]\n",
    "        coords_xy = np.array(coords).reshape(-1, 2)#.astype(int)\n",
    "        \n",
    "        # Split x and y coordinates\n",
    "        x, y = coords_xy[:, 0], coords_xy[:, 1]\n",
    "        \n",
    "        # Get the minimum and maximum bounds of the lake\n",
    "        x_min, x_max = np.min(x), np.max(x)\n",
    "        y_min, y_max = np.min(y), np.max(y)\n",
    "    \n",
    "        # The data consist of an array which has some defined bounds\n",
    "        # We now retrieve the index of our x and ys in relation to those bounds\n",
    "        x_min_idx, y_min_idx = tif_file.index(x_min, y_min)\n",
    "        x_max_idx, y_max_idx = tif_file.index(x_max, y_max)\n",
    "    \n",
    "        # Compute width and height\n",
    "        w = abs(x_max_idx - x_min_idx)\n",
    "        h = abs(y_max_idx - y_min_idx)\n",
    "    \n",
    "        # Re-center coordinates at (0,0)\n",
    "        poly = shapely.transform(poly, lambda c: np.round(c - [x_min, y_min]))\n",
    "        mask = rasterio.features.rasterize([poly], out_shape=(w, h))\n",
    "        mask = np.flip(mask, 0)\n",
    "    \n",
    "        # Store in dictionary format for easy access\n",
    "        data = {'geometry': geometry, 'coordinates': coords[0][0], 'mask': mask.tolist()}\n",
    "        dataset.append(data)\n",
    "        \n",
    "        if i == 0:\n",
    "            display(poly)\n",
    "            print('mask shape:', mask.shape)\n",
    "            plt.imshow(mask)\n",
    "            plt.show()\n",
    "            \n",
    "    except: # Skip any polygons which can't be parsed\n",
    "        failed += 1\n",
    "        continue\n",
    "print(f'Failed to convert {failed} annotations')"
   ]
  },
  {
   "cell_type": "code",
   "execution_count": 6,
   "id": "2fe64825-0849-46b6-907b-285582980b28",
   "metadata": {},
   "outputs": [],
   "source": [
    "# print(poly.bounds)\n",
    "# print(coords[0][0])\n",
    "# print(x, y)\n",
    "# lake_coords = np.array(coords).reshape(-1, 2)#.astype(int)\n",
    "# x_, y_ = np.round(lake_coords[:, 0]), np.round(lake_coords[:, 1])\n",
    "# x_min_, x_max_ = np.min(x_), np.max(x_)\n",
    "# y_min_, y_max_ = np.min(y_), np.max(y_)\n",
    "# print(x_max_ - x_min_, y_max_ - y_min_)"
   ]
  },
  {
   "cell_type": "code",
   "execution_count": 7,
   "id": "6f0d87e6-01b3-4aa8-b114-49534122caab",
   "metadata": {},
   "outputs": [
    {
     "name": "stdout",
     "output_type": "stream",
     "text": [
      "CPU times: user 2min 53s, sys: 1.68 s, total: 2min 54s\n",
      "Wall time: 2min 55s\n"
     ]
    }
   ],
   "source": [
    "%%time\n",
    "import json\n",
    "with open('denmark_annotations.json', 'w') as f:\n",
    "    json.dump(dataset, f)"
   ]
  },
  {
   "cell_type": "code",
   "execution_count": 10,
   "id": "2bd1f6ce-fe69-4550-8ad3-1c3977412099",
   "metadata": {},
   "outputs": [
    {
     "name": "stdout",
     "output_type": "stream",
     "text": [
      "[[0 0 0 0 0 0 0 0 0 0]\n",
      " [0 0 0 1 1 1 0 0 0 0]\n",
      " [0 0 0 1 1 1 0 0 0 0]\n",
      " [0 0 0 1 1 1 0 0 0 0]\n",
      " [0 0 0 1 1 1 0 0 0 0]\n",
      " [0 0 0 0 0 0 0 0 0 0]\n",
      " [0 0 0 0 0 0 0 0 0 0]]\n",
      "(4, 3)\n",
      "(7, 10)\n"
     ]
    }
   ],
   "source": [
    "arr = np.array([[1,1,1], [1,1,1], [1,1,1], [1,1,1]])\n",
    "arr_2 = np.pad(arr, ((1, 2), (3, 4)), 'constant', constant_values=0)\n",
    "print(arr_2)\n",
    "print(arr.shape)\n",
    "print(arr_2.shape)"
   ]
  },
  {
   "cell_type": "code",
   "execution_count": null,
   "id": "f993c491-0fd1-4096-ad01-349222504ccf",
   "metadata": {},
   "outputs": [],
   "source": []
  }
 ],
 "metadata": {
  "kernelspec": {
   "display_name": "Python 3 (ipykernel)",
   "language": "python",
   "name": "python3"
  },
  "language_info": {
   "codemirror_mode": {
    "name": "ipython",
    "version": 3
   },
   "file_extension": ".py",
   "mimetype": "text/x-python",
   "name": "python",
   "nbconvert_exporter": "python",
   "pygments_lexer": "ipython3",
   "version": "3.10.12"
  }
 },
 "nbformat": 4,
 "nbformat_minor": 5
}
